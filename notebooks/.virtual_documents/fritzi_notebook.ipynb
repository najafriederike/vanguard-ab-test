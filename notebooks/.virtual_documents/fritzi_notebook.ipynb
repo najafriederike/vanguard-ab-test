








import pandas as pd
import matplotlib.pyplot as plt
import seaborn as sns
import numpy as np
from scipy.stats import chi2_contingency
from scipy.stats.contingency import association
import statsmodels.api as sm

%matplotlib inline


df = pd.read_csv("../data/clean/df_cleaned.csv")


df.head()








client_tenure_summary = df['clnt_tenure_yr'].describe()
print(client_tenure_summary)
print(f"Mode: {df['clnt_tenure_yr'].mode()[0]}")





# Boxplot of 'clnt_tenure_yr'

client_tenure_boxplot = sns.boxplot(x = df['clnt_tenure_yr'], color="crimson")
plt.title("Summary of Client Relationship Lengths with Vanguard")
plt.xlabel("Years as a Vanguard Client");





# Histogram of 'clnt_tenure_yr'

client_tenure_histogram = sns.histplot(x = df['clnt_tenure_yr'], color="crimson")
plt.title("Distribution of Client Relationships with Vanguard")
plt.xlabel("Years as a Vanguard Client")
plt.ylabel('Number of Clients')
plt.xscale('linear')
plt.xticks(ticks=np.arange(0, 60, 5));











# Frequency table

gender_distr = df['gendr'].value_counts()
index_names = ['Unknown', 'Male', 'Female']
gender_distr.index = index_names
gender_distr


# Frequency table by proportion

gender_distr_prop = df['gendr'].value_counts(normalize=True).round(4)
index_names = ['Unknown', 'Male', 'Female']
gender_distr_prop.index = index_names
gender_distr_prop = gender_distr_prop.sort_values(ascending=False)
gender_distr_prop


gender_distr_prop.plot.pie(autopct='%.2f%%', startangle=90, colors=sns.color_palette("rocket_r"), ylabel="")
plt.title("Distribution of Gender among Clients");











# Change datatype from float to integer
df['num_accts'] = df['num_accts'].astype(int)
df['num_accts'].dtype


# Calculate summary statistics
no_of_accounts = df['num_accts'].describe()
no_of_accounts





no_of_accounts_prop = (df['num_accts'].value_counts(normalize=True)*100).round(2).sort_index()
no_of_accounts_prop


no_of_accounts_prop_plot = sns.barplot(no_of_accounts_prop, color="crimson")
no_of_accounts_prop_plot
plt.title("Number of Accounts per Client")
plt.ylabel("Proportions in %")
plt.xlabel("Number of Accounts");






