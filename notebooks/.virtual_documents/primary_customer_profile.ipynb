





import pandas as pd
import matplotlib.pyplot as plt
import seaborn as sns
import numpy as np
from scipy.stats import chi2_contingency
from scipy.stats.contingency import association
import statsmodels.api as sm
from scipy.stats import skew, kurtosis

%matplotlib inline

# Using the "Reds" palette
sns.set_palette("Reds")


df = pd.read_csv("../data/clean/df_cleaned.csv")


df.head()


df.select_dtypes("number").columns


df.select_dtypes("number").nunique().sort_values(ascending=False)


df.select_dtypes("object").columns


# Separating numerical and categorical columns
numerical_cols = df.select_dtypes(include=['number']).columns.tolist()
categorical_cols = df.select_dtypes(include=['object']).columns.tolist()


# Summary of numerical columns
numerical_summary = df[numerical_cols].describe()
numerical_summary


# Frequency tables for categorical variables
frequency_table = {col: df[col].value_counts() for col in ['gendr', 'Variation', 'process_step']}
frequency_table


# Measures of Centrality (age)


mean_age = df['clnt_age'].mean()
median_age = df['clnt_age'].median()
mode_age = df['clnt_age'].mode()[0]

mean_age, median_age, mode_age


# Measures of Dispersion (age)


variance_age = df['clnt_age'].var()
std_dev_age = df['clnt_age'].std()
min_age = df['clnt_age'].min()
max_age = df['clnt_age'].max()
range_age = max_age - min_age
quantiles_age = df['clnt_age'].quantile([0.25, 0.5, 0.75])

variance_age, std_dev_age, min_age, max_age, range_age, quantiles_age





# Histogram (age)
# Create bins for age in 5-year intervals and categorize
bins = range(15, 100, 5)  # Age bins from 15 to 95 in steps of 5
labels = [f"{i}-{i+4}" for i in bins[:-1]]  # Labels like '15-19', '20-24', etc.
df['age_bins'] = pd.cut(df['clnt_age'], bins=bins, labels=labels, right=False)

# Plotting the age distribution with bins
plt.figure(figsize=(12, 6))
sns.countplot(x='age_bins', data=df, order=labels, palette='Reds')
plt.title('Age Distribution in 5-Year Bins')
plt.show()



# Count the number of clients in each age bin
age_bin_counts = df['age_bins'].value_counts(sort=False)  # `sort=False` keeps the bin order

# Calculate percentages
age_bin_percentages = (age_bin_counts / len(df)) * 100

# Combine counts and percentages into a DataFrame
age_distribution = pd.DataFrame({
    'Age Bin': labels,
    'Count': age_bin_counts.values,
    'Percentage': age_bin_percentages.values
})

# Display the DataFrame
age_distribution


# Bar plot for age bin percentages
plt.figure(figsize=(12, 6))
sns.barplot(
    x='Age Bin', 
    y='Percentage', 
    data=age_distribution, 
    palette='Reds'
)
plt.title('Percentage Distribution of Age in 5-Year Bins')
plt.xlabel('Age Bin')
plt.ylabel('Percentage')
plt.xticks(rotation=45)
plt.savefig("../figures/percentage_age_bins.jpeg", format="jpeg", dpi=300)
plt.show()





# box
sns.boxplot(x = df['clnt_age'], color="Red");
plt.savefig("../figures/Age_boxplot.jpeg", format="jpeg", dpi=300)
plt.show()





# Measures of Centrality (balance)
mean_bal = df['bal'].mean()
median_bal = df['bal'].median()
mode_bal = df['bal'].mode()[0]

mean_bal, median_bal, mode_bal


# Measures of Dispersion (age)
variance_bal = df['bal'].var()
std_dev_bal = df['bal'].std()
min_bal = df['bal'].min()
max_bal = df['bal'].max()
range_bal = max_bal - min_bal
quantiles_bal = df['clnt_age'].quantile([0.25, 0.5, 0.75])

variance_bal, std_dev_bal, min_bal, max_bal, range_bal, quantiles_bal





# Discretizing balances using fixed ranges
balance_bins_fixed = [0, 50000, 100000, 200000, 500000, 1000000, df['bal'].max()]
balance_labels_fixed = ['0-50K', '50K-100K', '100K-200K', '200K-500K', '500K-1M', 'Above $1M']
df['balance_category_fixed'] = pd.cut(df['bal'], bins=balance_bins_fixed, labels=balance_labels_fixed, right=False)

# Visualizing the distribution of balance categories with fixed ranges
sns.countplot(x='balance_category_fixed', data=df, palette='Reds', order=balance_labels_fixed)
plt.show()



# Count the occurrences of each balance category
balance_counts = df['balance_category_fixed'].value_counts(sort=False)

# Calculate percentages
balance_percentages = (balance_counts / len(df)) * 100

# Combine counts and percentages into a DataFrame for better visualization
balance_distribution = pd.DataFrame({
    'Balance Category': balance_labels_fixed,
    'Count': balance_counts.values,
    'Percentage': balance_percentages.values
})

# Display the DataFrame
balance_distribution


# Bar plot for percentages
sns.barplot(
    x=balance_distribution['Balance Category'], 
    y=balance_distribution['Percentage'], 
    palette='Reds'
)
plt.title('Percentage Distribution of Account Balances (Fixed Ranges)')
plt.xlabel('Balances')
plt.ylabel('Percentage')
plt.savefig("../figures/percentage_distribution_balance.jpeg", format="jpeg", dpi=300)
plt.show()






# Process Step Frequency (Bar Plot)
sns.countplot(x='process_step', data=df, order=df['process_step'].value_counts().index, palette='Reds')
plt.title('Process Step Frequency')
plt.xlabel('Process Step')
plt.ylabel('Count')
plt.show()


# Count occurrences of each process step
process_step_counts = df['process_step'].value_counts()

# Calculate percentages
process_step_percentages = (process_step_counts / len(df)) * 100

# Combine counts and percentages into a DataFrame
process_step_distribution = pd.DataFrame({
    'Process Step': process_step_counts.index,
    'Count': process_step_counts.values,
    'Percentage': process_step_percentages.values
})

# Display the DataFrame
process_step_distribution





# Bar plot for process step percentages
plt.figure(figsize=(10, 6))
sns.barplot(
    x=process_step_distribution['Process Step'], 
    y=process_step_distribution['Percentage'], 
    palette='Reds'
)
plt.title('Percentage Distribution of Process Steps')
plt.xlabel('Process Step')
plt.ylabel('Percentage')
plt.savefig("../figures/process_step_percentage_distribution.jpeg", format="jpeg", dpi=300)
plt.show()


# Variation Frequency (Bar Plot)
sns.countplot(x='Variation', data=df, palette='Reds', order=df['Variation'].value_counts().index)
plt.title('Frequency of Variations (Control vs Test)')
plt.xlabel('Variation (Control/Test)')
plt.ylabel('Count')
plt.show()


# Count occurrences of each variation
variation_counts = df['Variation'].value_counts()

# Calculate percentages
variation_percentages = (variation_counts / len(df)) * 100

# Combine into a DataFrame for better visualization
variation_distribution = pd.DataFrame({
    'Variation': variation_counts.index,
    'Count': variation_counts.values,
    'Percentage': variation_percentages.values
})

# Display the DataFrame
variation_distribution





# Bar plot for percentages
sns.barplot(
    x=variation_distribution['Variation'], 
    y=variation_distribution['Percentage'], 
    palette='Reds'
)
plt.title('Percentage Distribution of Variations (Control vs Test)')
plt.xlabel('Variation (Control/Test)')
plt.ylabel('Percentage')
plt.savefig("../figures/variation_percentage_distribution.jpeg", format="jpeg", dpi=300)
plt.show()


# Calculate skewness and kurtosis for numerical columns 'clnt_age' and 'bal'
age_skewness = skew(df['clnt_age'])
age_kurtosis = kurtosis(df['clnt_age'])

balance_skewness = skew(df['bal'])
balance_kurtosis = kurtosis(df['bal'])

# For categorical columns like 'process_step' and 'Variation', calculate frequency-based skewness/kurtosis
process_step_counts = df['process_step'].value_counts()
variation_counts = df['Variation'].value_counts()

process_step_skewness = skew(process_step_counts)
process_step_kurtosis = kurtosis(process_step_counts)

variation_skewness = skew(variation_counts)
variation_kurtosis = kurtosis(variation_counts)

# Creating a dictionary to summarize results
skew_kurtosis_results = {
    'Age': {'Skewness': age_skewness, 'Kurtosis': age_kurtosis},
    'Balance': {'Skewness': balance_skewness, 'Kurtosis': balance_kurtosis},
    'Process Step': {'Skewness': process_step_skewness, 'Kurtosis': process_step_kurtosis},
    'Variation': {'Skewness': variation_skewness, 'Kurtosis': variation_kurtosis},
}

skew_kurtosis_results



# Generating a Q-Q plot for 'clnt_age' to check if its distribution follows a normal distribution
sm.qqplot(df['clnt_age'], line='s');
plt.savefig("./figures/age_qq.jpeg", format="jpeg", dpi=300)
plt.show()


df['logons_6_mnth'].unique()



