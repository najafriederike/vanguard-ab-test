{
 "cells": [
  {
   "cell_type": "markdown",
   "id": "0944267e-ec69-46a3-a7d3-5b86065c847d",
   "metadata": {},
   "source": [
    "### Day 2 - Customer's Profile [Jonathan] "
   ]
  },
  {
   "cell_type": "markdown",
   "id": "acd94fb9-576b-4be7-ae57-6d9ef54056de",
   "metadata": {},
   "source": [
    "#### SUMMARY\n",
    "##### What’s the primary profile of Vanguard's clients?\n",
    "- The primary clients using this online process have an average age of 47 years old with a median of 48 years old. The age distribution weights most between the ages of 40-64, 47% of participants fall in this range. \n",
    "- The average account balance is 149,521 and the median balance is 65,736. 52% clients have a balance between 0-100k and 70% between 0-200k.\n",
    "- In our dataset, the distribution of the variation is: 55.4% in the control group and 44.6% in the test group."
   ]
  },
  {
   "cell_type": "code",
   "execution_count": 12,
   "id": "43a492d6-e89c-41ff-bd1c-e1cb9721167b",
   "metadata": {},
   "outputs": [],
   "source": [
    "import pandas as pd\n",
    "import matplotlib.pyplot as plt\n",
    "import seaborn as sns\n",
    "import numpy as np\n",
    "from scipy.stats import chi2_contingency\n",
    "from scipy.stats.contingency import association\n",
    "import statsmodels.api as sm\n",
    "from scipy.stats import skew, kurtosis\n",
    "\n",
    "%matplotlib inline\n",
    "\n",
    "# Using the \"Reds\" palette\n",
    "sns.set_palette(\"Reds\")"
   ]
  },
  {
   "cell_type": "code",
   "execution_count": 259,
   "id": "347b1c9d-87e3-4091-8362-ac22b955da13",
   "metadata": {},
   "outputs": [],
   "source": [
    "df = pd.read_csv(\"../data/clean/df_cleaned.csv\")"
   ]
  },
  {
   "cell_type": "code",
   "execution_count": 261,
   "id": "c75c343c-3389-43d4-a719-454051014b85",
   "metadata": {},
   "outputs": [
    {
     "data": {
      "text/html": [
       "<div>\n",
       "<style scoped>\n",
       "    .dataframe tbody tr th:only-of-type {\n",
       "        vertical-align: middle;\n",
       "    }\n",
       "\n",
       "    .dataframe tbody tr th {\n",
       "        vertical-align: top;\n",
       "    }\n",
       "\n",
       "    .dataframe thead th {\n",
       "        text-align: right;\n",
       "    }\n",
       "</style>\n",
       "<table border=\"1\" class=\"dataframe\">\n",
       "  <thead>\n",
       "    <tr style=\"text-align: right;\">\n",
       "      <th></th>\n",
       "      <th>client_id</th>\n",
       "      <th>clnt_tenure_yr</th>\n",
       "      <th>clnt_tenure_mnth</th>\n",
       "      <th>clnt_age</th>\n",
       "      <th>gendr</th>\n",
       "      <th>num_accts</th>\n",
       "      <th>bal</th>\n",
       "      <th>calls_6_mnth</th>\n",
       "      <th>logons_6_mnth</th>\n",
       "      <th>Variation</th>\n",
       "      <th>visitor_id</th>\n",
       "      <th>visit_id</th>\n",
       "      <th>process_step</th>\n",
       "      <th>date_time</th>\n",
       "    </tr>\n",
       "  </thead>\n",
       "  <tbody>\n",
       "    <tr>\n",
       "      <th>0</th>\n",
       "      <td>836976</td>\n",
       "      <td>6.0</td>\n",
       "      <td>73.0</td>\n",
       "      <td>60.5</td>\n",
       "      <td>U</td>\n",
       "      <td>2.0</td>\n",
       "      <td>45105.30</td>\n",
       "      <td>6.0</td>\n",
       "      <td>9.0</td>\n",
       "      <td>Test</td>\n",
       "      <td>427070339_1413275162</td>\n",
       "      <td>228976764_46825473280_96584</td>\n",
       "      <td>confirm</td>\n",
       "      <td>2017-04-02 11:51:13</td>\n",
       "    </tr>\n",
       "    <tr>\n",
       "      <th>1</th>\n",
       "      <td>836976</td>\n",
       "      <td>6.0</td>\n",
       "      <td>73.0</td>\n",
       "      <td>60.5</td>\n",
       "      <td>U</td>\n",
       "      <td>2.0</td>\n",
       "      <td>45105.30</td>\n",
       "      <td>6.0</td>\n",
       "      <td>9.0</td>\n",
       "      <td>Test</td>\n",
       "      <td>427070339_1413275162</td>\n",
       "      <td>228976764_46825473280_96584</td>\n",
       "      <td>confirm</td>\n",
       "      <td>2017-04-02 11:47:50</td>\n",
       "    </tr>\n",
       "    <tr>\n",
       "      <th>2</th>\n",
       "      <td>836976</td>\n",
       "      <td>6.0</td>\n",
       "      <td>73.0</td>\n",
       "      <td>60.5</td>\n",
       "      <td>U</td>\n",
       "      <td>2.0</td>\n",
       "      <td>45105.30</td>\n",
       "      <td>6.0</td>\n",
       "      <td>9.0</td>\n",
       "      <td>Test</td>\n",
       "      <td>427070339_1413275162</td>\n",
       "      <td>228976764_46825473280_96584</td>\n",
       "      <td>confirm</td>\n",
       "      <td>2017-04-02 11:46:45</td>\n",
       "    </tr>\n",
       "    <tr>\n",
       "      <th>3</th>\n",
       "      <td>836976</td>\n",
       "      <td>6.0</td>\n",
       "      <td>73.0</td>\n",
       "      <td>60.5</td>\n",
       "      <td>U</td>\n",
       "      <td>2.0</td>\n",
       "      <td>45105.30</td>\n",
       "      <td>6.0</td>\n",
       "      <td>9.0</td>\n",
       "      <td>Test</td>\n",
       "      <td>427070339_1413275162</td>\n",
       "      <td>228976764_46825473280_96584</td>\n",
       "      <td>step_3</td>\n",
       "      <td>2017-04-02 11:23:08</td>\n",
       "    </tr>\n",
       "    <tr>\n",
       "      <th>4</th>\n",
       "      <td>836976</td>\n",
       "      <td>6.0</td>\n",
       "      <td>73.0</td>\n",
       "      <td>60.5</td>\n",
       "      <td>U</td>\n",
       "      <td>2.0</td>\n",
       "      <td>45105.30</td>\n",
       "      <td>6.0</td>\n",
       "      <td>9.0</td>\n",
       "      <td>Test</td>\n",
       "      <td>427070339_1413275162</td>\n",
       "      <td>228976764_46825473280_96584</td>\n",
       "      <td>step_2</td>\n",
       "      <td>2017-04-02 11:22:24</td>\n",
       "    </tr>\n",
       "    <tr>\n",
       "      <th>...</th>\n",
       "      <td>...</td>\n",
       "      <td>...</td>\n",
       "      <td>...</td>\n",
       "      <td>...</td>\n",
       "      <td>...</td>\n",
       "      <td>...</td>\n",
       "      <td>...</td>\n",
       "      <td>...</td>\n",
       "      <td>...</td>\n",
       "      <td>...</td>\n",
       "      <td>...</td>\n",
       "      <td>...</td>\n",
       "      <td>...</td>\n",
       "      <td>...</td>\n",
       "    </tr>\n",
       "    <tr>\n",
       "      <th>321182</th>\n",
       "      <td>7468138</td>\n",
       "      <td>18.0</td>\n",
       "      <td>222.0</td>\n",
       "      <td>61.0</td>\n",
       "      <td>F</td>\n",
       "      <td>3.0</td>\n",
       "      <td>209278.15</td>\n",
       "      <td>0.0</td>\n",
       "      <td>3.0</td>\n",
       "      <td>Test</td>\n",
       "      <td>317123960_46820919455</td>\n",
       "      <td>769876461_30381166055_830233</td>\n",
       "      <td>step_2</td>\n",
       "      <td>2017-03-30 23:59:15</td>\n",
       "    </tr>\n",
       "    <tr>\n",
       "      <th>321183</th>\n",
       "      <td>7468138</td>\n",
       "      <td>18.0</td>\n",
       "      <td>222.0</td>\n",
       "      <td>61.0</td>\n",
       "      <td>F</td>\n",
       "      <td>3.0</td>\n",
       "      <td>209278.15</td>\n",
       "      <td>0.0</td>\n",
       "      <td>3.0</td>\n",
       "      <td>Test</td>\n",
       "      <td>317123960_46820919455</td>\n",
       "      <td>769876461_30381166055_830233</td>\n",
       "      <td>step_1</td>\n",
       "      <td>2017-03-30 23:58:51</td>\n",
       "    </tr>\n",
       "    <tr>\n",
       "      <th>321184</th>\n",
       "      <td>7468138</td>\n",
       "      <td>18.0</td>\n",
       "      <td>222.0</td>\n",
       "      <td>61.0</td>\n",
       "      <td>F</td>\n",
       "      <td>3.0</td>\n",
       "      <td>209278.15</td>\n",
       "      <td>0.0</td>\n",
       "      <td>3.0</td>\n",
       "      <td>Test</td>\n",
       "      <td>317123960_46820919455</td>\n",
       "      <td>769876461_30381166055_830233</td>\n",
       "      <td>start</td>\n",
       "      <td>2017-03-30 23:58:40</td>\n",
       "    </tr>\n",
       "    <tr>\n",
       "      <th>321185</th>\n",
       "      <td>7468138</td>\n",
       "      <td>18.0</td>\n",
       "      <td>222.0</td>\n",
       "      <td>61.0</td>\n",
       "      <td>F</td>\n",
       "      <td>3.0</td>\n",
       "      <td>209278.15</td>\n",
       "      <td>0.0</td>\n",
       "      <td>3.0</td>\n",
       "      <td>Test</td>\n",
       "      <td>317123960_46820919455</td>\n",
       "      <td>769876461_30381166055_830233</td>\n",
       "      <td>start</td>\n",
       "      <td>2017-03-30 23:55:11</td>\n",
       "    </tr>\n",
       "    <tr>\n",
       "      <th>321186</th>\n",
       "      <td>7468138</td>\n",
       "      <td>18.0</td>\n",
       "      <td>222.0</td>\n",
       "      <td>61.0</td>\n",
       "      <td>F</td>\n",
       "      <td>3.0</td>\n",
       "      <td>209278.15</td>\n",
       "      <td>0.0</td>\n",
       "      <td>3.0</td>\n",
       "      <td>Test</td>\n",
       "      <td>317123960_46820919455</td>\n",
       "      <td>769876461_30381166055_830233</td>\n",
       "      <td>start</td>\n",
       "      <td>2017-03-31 00:16:12</td>\n",
       "    </tr>\n",
       "  </tbody>\n",
       "</table>\n",
       "<p>321187 rows × 14 columns</p>\n",
       "</div>"
      ],
      "text/plain": [
       "        client_id  clnt_tenure_yr  clnt_tenure_mnth  clnt_age gendr  \\\n",
       "0          836976             6.0              73.0      60.5     U   \n",
       "1          836976             6.0              73.0      60.5     U   \n",
       "2          836976             6.0              73.0      60.5     U   \n",
       "3          836976             6.0              73.0      60.5     U   \n",
       "4          836976             6.0              73.0      60.5     U   \n",
       "...           ...             ...               ...       ...   ...   \n",
       "321182    7468138            18.0             222.0      61.0     F   \n",
       "321183    7468138            18.0             222.0      61.0     F   \n",
       "321184    7468138            18.0             222.0      61.0     F   \n",
       "321185    7468138            18.0             222.0      61.0     F   \n",
       "321186    7468138            18.0             222.0      61.0     F   \n",
       "\n",
       "        num_accts        bal  calls_6_mnth  logons_6_mnth Variation  \\\n",
       "0             2.0   45105.30           6.0            9.0      Test   \n",
       "1             2.0   45105.30           6.0            9.0      Test   \n",
       "2             2.0   45105.30           6.0            9.0      Test   \n",
       "3             2.0   45105.30           6.0            9.0      Test   \n",
       "4             2.0   45105.30           6.0            9.0      Test   \n",
       "...           ...        ...           ...            ...       ...   \n",
       "321182        3.0  209278.15           0.0            3.0      Test   \n",
       "321183        3.0  209278.15           0.0            3.0      Test   \n",
       "321184        3.0  209278.15           0.0            3.0      Test   \n",
       "321185        3.0  209278.15           0.0            3.0      Test   \n",
       "321186        3.0  209278.15           0.0            3.0      Test   \n",
       "\n",
       "                   visitor_id                      visit_id process_step  \\\n",
       "0        427070339_1413275162   228976764_46825473280_96584      confirm   \n",
       "1        427070339_1413275162   228976764_46825473280_96584      confirm   \n",
       "2        427070339_1413275162   228976764_46825473280_96584      confirm   \n",
       "3        427070339_1413275162   228976764_46825473280_96584       step_3   \n",
       "4        427070339_1413275162   228976764_46825473280_96584       step_2   \n",
       "...                       ...                           ...          ...   \n",
       "321182  317123960_46820919455  769876461_30381166055_830233       step_2   \n",
       "321183  317123960_46820919455  769876461_30381166055_830233       step_1   \n",
       "321184  317123960_46820919455  769876461_30381166055_830233        start   \n",
       "321185  317123960_46820919455  769876461_30381166055_830233        start   \n",
       "321186  317123960_46820919455  769876461_30381166055_830233        start   \n",
       "\n",
       "                  date_time  \n",
       "0       2017-04-02 11:51:13  \n",
       "1       2017-04-02 11:47:50  \n",
       "2       2017-04-02 11:46:45  \n",
       "3       2017-04-02 11:23:08  \n",
       "4       2017-04-02 11:22:24  \n",
       "...                     ...  \n",
       "321182  2017-03-30 23:59:15  \n",
       "321183  2017-03-30 23:58:51  \n",
       "321184  2017-03-30 23:58:40  \n",
       "321185  2017-03-30 23:55:11  \n",
       "321186  2017-03-31 00:16:12  \n",
       "\n",
       "[321187 rows x 14 columns]"
      ]
     },
     "execution_count": 261,
     "metadata": {},
     "output_type": "execute_result"
    }
   ],
   "source": [
    "df"
   ]
  },
  {
   "cell_type": "code",
   "execution_count": 128,
   "id": "2b23ee9d-fb52-4f0d-8449-38175d4b3f63",
   "metadata": {},
   "outputs": [],
   "source": [
    "unique_client_df = df.drop_duplicates(subset='client_id', keep='first').copy()"
   ]
  },
  {
   "cell_type": "code",
   "execution_count": 132,
   "id": "73a8d994-d6a2-404d-bdd6-79a3ae07c165",
   "metadata": {},
   "outputs": [
    {
     "data": {
      "text/html": [
       "<div>\n",
       "<style scoped>\n",
       "    .dataframe tbody tr th:only-of-type {\n",
       "        vertical-align: middle;\n",
       "    }\n",
       "\n",
       "    .dataframe tbody tr th {\n",
       "        vertical-align: top;\n",
       "    }\n",
       "\n",
       "    .dataframe thead th {\n",
       "        text-align: right;\n",
       "    }\n",
       "</style>\n",
       "<table border=\"1\" class=\"dataframe\">\n",
       "  <thead>\n",
       "    <tr style=\"text-align: right;\">\n",
       "      <th></th>\n",
       "      <th>client_id</th>\n",
       "      <th>clnt_tenure_yr</th>\n",
       "      <th>clnt_tenure_mnth</th>\n",
       "      <th>clnt_age</th>\n",
       "      <th>gendr</th>\n",
       "      <th>num_accts</th>\n",
       "      <th>bal</th>\n",
       "      <th>calls_6_mnth</th>\n",
       "      <th>logons_6_mnth</th>\n",
       "      <th>Variation</th>\n",
       "      <th>visitor_id</th>\n",
       "      <th>visit_id</th>\n",
       "      <th>process_step</th>\n",
       "      <th>date_time</th>\n",
       "    </tr>\n",
       "  </thead>\n",
       "  <tbody>\n",
       "    <tr>\n",
       "      <th>0</th>\n",
       "      <td>836976</td>\n",
       "      <td>6.0</td>\n",
       "      <td>73.0</td>\n",
       "      <td>60.5</td>\n",
       "      <td>U</td>\n",
       "      <td>2.0</td>\n",
       "      <td>45105.30</td>\n",
       "      <td>6.0</td>\n",
       "      <td>9.0</td>\n",
       "      <td>Test</td>\n",
       "      <td>427070339_1413275162</td>\n",
       "      <td>228976764_46825473280_96584</td>\n",
       "      <td>confirm</td>\n",
       "      <td>2017-04-02 11:51:13</td>\n",
       "    </tr>\n",
       "    <tr>\n",
       "      <th>11</th>\n",
       "      <td>2304905</td>\n",
       "      <td>7.0</td>\n",
       "      <td>94.0</td>\n",
       "      <td>58.0</td>\n",
       "      <td>U</td>\n",
       "      <td>2.0</td>\n",
       "      <td>110860.30</td>\n",
       "      <td>6.0</td>\n",
       "      <td>9.0</td>\n",
       "      <td>Control</td>\n",
       "      <td>336210275_56978226960</td>\n",
       "      <td>724930510_65323235593_692754</td>\n",
       "      <td>confirm</td>\n",
       "      <td>2017-05-21 11:07:16</td>\n",
       "    </tr>\n",
       "    <tr>\n",
       "      <th>17</th>\n",
       "      <td>1439522</td>\n",
       "      <td>5.0</td>\n",
       "      <td>64.0</td>\n",
       "      <td>32.0</td>\n",
       "      <td>U</td>\n",
       "      <td>2.0</td>\n",
       "      <td>52467.79</td>\n",
       "      <td>6.0</td>\n",
       "      <td>9.0</td>\n",
       "      <td>Test</td>\n",
       "      <td>245908175_84333642537</td>\n",
       "      <td>898099666_87299892721_263146</td>\n",
       "      <td>step_3</td>\n",
       "      <td>2017-04-06 09:29:59</td>\n",
       "    </tr>\n",
       "    <tr>\n",
       "      <th>22</th>\n",
       "      <td>1562045</td>\n",
       "      <td>16.0</td>\n",
       "      <td>198.0</td>\n",
       "      <td>49.0</td>\n",
       "      <td>M</td>\n",
       "      <td>2.0</td>\n",
       "      <td>67454.65</td>\n",
       "      <td>3.0</td>\n",
       "      <td>6.0</td>\n",
       "      <td>Test</td>\n",
       "      <td>391202328_71710993352</td>\n",
       "      <td>71954691_44810191073_495385</td>\n",
       "      <td>start</td>\n",
       "      <td>2017-04-06 19:03:46</td>\n",
       "    </tr>\n",
       "    <tr>\n",
       "      <th>23</th>\n",
       "      <td>5126305</td>\n",
       "      <td>12.0</td>\n",
       "      <td>145.0</td>\n",
       "      <td>33.0</td>\n",
       "      <td>F</td>\n",
       "      <td>2.0</td>\n",
       "      <td>103671.75</td>\n",
       "      <td>0.0</td>\n",
       "      <td>3.0</td>\n",
       "      <td>Control</td>\n",
       "      <td>432077852_35036160885</td>\n",
       "      <td>942996157_39527225999_589383</td>\n",
       "      <td>start</td>\n",
       "      <td>2017-06-14 14:22:31</td>\n",
       "    </tr>\n",
       "  </tbody>\n",
       "</table>\n",
       "</div>"
      ],
      "text/plain": [
       "    client_id  clnt_tenure_yr  clnt_tenure_mnth  clnt_age gendr  num_accts  \\\n",
       "0      836976             6.0              73.0      60.5     U        2.0   \n",
       "11    2304905             7.0              94.0      58.0     U        2.0   \n",
       "17    1439522             5.0              64.0      32.0     U        2.0   \n",
       "22    1562045            16.0             198.0      49.0     M        2.0   \n",
       "23    5126305            12.0             145.0      33.0     F        2.0   \n",
       "\n",
       "          bal  calls_6_mnth  logons_6_mnth Variation             visitor_id  \\\n",
       "0    45105.30           6.0            9.0      Test   427070339_1413275162   \n",
       "11  110860.30           6.0            9.0   Control  336210275_56978226960   \n",
       "17   52467.79           6.0            9.0      Test  245908175_84333642537   \n",
       "22   67454.65           3.0            6.0      Test  391202328_71710993352   \n",
       "23  103671.75           0.0            3.0   Control  432077852_35036160885   \n",
       "\n",
       "                        visit_id process_step            date_time  \n",
       "0    228976764_46825473280_96584      confirm  2017-04-02 11:51:13  \n",
       "11  724930510_65323235593_692754      confirm  2017-05-21 11:07:16  \n",
       "17  898099666_87299892721_263146       step_3  2017-04-06 09:29:59  \n",
       "22   71954691_44810191073_495385        start  2017-04-06 19:03:46  \n",
       "23  942996157_39527225999_589383        start  2017-06-14 14:22:31  "
      ]
     },
     "execution_count": 132,
     "metadata": {},
     "output_type": "execute_result"
    }
   ],
   "source": [
    "unique_client_df.head()"
   ]
  },
  {
   "cell_type": "code",
   "execution_count": 134,
   "id": "726097c9-3c67-4977-9628-7c226c684fa5",
   "metadata": {},
   "outputs": [
    {
     "data": {
      "text/plain": [
       "Index(['client_id', 'clnt_tenure_yr', 'clnt_tenure_mnth', 'clnt_age',\n",
       "       'num_accts', 'bal', 'calls_6_mnth', 'logons_6_mnth'],\n",
       "      dtype='object')"
      ]
     },
     "execution_count": 134,
     "metadata": {},
     "output_type": "execute_result"
    }
   ],
   "source": [
    "unique_client_df.select_dtypes(\"number\").columns"
   ]
  },
  {
   "cell_type": "code",
   "execution_count": 136,
   "id": "a28f6e94-1016-44d0-89fd-29f783323e24",
   "metadata": {},
   "outputs": [
    {
     "data": {
      "text/plain": [
       "client_id           50485\n",
       "bal                 50309\n",
       "clnt_tenure_mnth      469\n",
       "clnt_age              158\n",
       "clnt_tenure_yr         53\n",
       "num_accts               7\n",
       "calls_6_mnth            7\n",
       "logons_6_mnth           7\n",
       "dtype: int64"
      ]
     },
     "execution_count": 136,
     "metadata": {},
     "output_type": "execute_result"
    }
   ],
   "source": [
    "unique_client_df.select_dtypes(\"number\").nunique().sort_values(ascending=False)"
   ]
  },
  {
   "cell_type": "code",
   "execution_count": 78,
   "id": "84a0f4fb-fb9a-4d53-9495-66b2faac313e",
   "metadata": {},
   "outputs": [
    {
     "data": {
      "text/plain": [
       "Index(['gendr', 'Variation', 'visitor_id', 'visit_id', 'process_step',\n",
       "       'date_time'],\n",
       "      dtype='object')"
      ]
     },
     "execution_count": 78,
     "metadata": {},
     "output_type": "execute_result"
    }
   ],
   "source": [
    "df.select_dtypes(\"object\").columns"
   ]
  },
  {
   "cell_type": "code",
   "execution_count": 232,
   "id": "695b25bf-1a0d-4f1f-889c-72bd0d0a5fca",
   "metadata": {
    "scrolled": true
   },
   "outputs": [],
   "source": [
    "# Separating numerical and categorical columns\n",
    "numerical_cols = unique_client_df.select_dtypes(include=['number']).columns.tolist()\n",
    "categorical_cols = unique_client_df.select_dtypes(include=['object']).columns.tolist()"
   ]
  },
  {
   "cell_type": "code",
   "execution_count": 234,
   "id": "af276d78-8fd6-4d90-822d-6c500c841852",
   "metadata": {},
   "outputs": [
    {
     "data": {
      "text/html": [
       "<div>\n",
       "<style scoped>\n",
       "    .dataframe tbody tr th:only-of-type {\n",
       "        vertical-align: middle;\n",
       "    }\n",
       "\n",
       "    .dataframe tbody tr th {\n",
       "        vertical-align: top;\n",
       "    }\n",
       "\n",
       "    .dataframe thead th {\n",
       "        text-align: right;\n",
       "    }\n",
       "</style>\n",
       "<table border=\"1\" class=\"dataframe\">\n",
       "  <thead>\n",
       "    <tr style=\"text-align: right;\">\n",
       "      <th></th>\n",
       "      <th>client_id</th>\n",
       "      <th>clnt_tenure_yr</th>\n",
       "      <th>clnt_tenure_mnth</th>\n",
       "      <th>clnt_age</th>\n",
       "      <th>num_accts</th>\n",
       "      <th>bal</th>\n",
       "      <th>calls_6_mnth</th>\n",
       "      <th>logons_6_mnth</th>\n",
       "    </tr>\n",
       "  </thead>\n",
       "  <tbody>\n",
       "    <tr>\n",
       "      <th>count</th>\n",
       "      <td>5.048500e+04</td>\n",
       "      <td>50485.000000</td>\n",
       "      <td>50485.000000</td>\n",
       "      <td>50485.000000</td>\n",
       "      <td>50485.000000</td>\n",
       "      <td>5.048500e+04</td>\n",
       "      <td>50485.000000</td>\n",
       "      <td>50485.000000</td>\n",
       "    </tr>\n",
       "    <tr>\n",
       "      <th>mean</th>\n",
       "      <td>5.006173e+06</td>\n",
       "      <td>12.031891</td>\n",
       "      <td>150.417391</td>\n",
       "      <td>47.320362</td>\n",
       "      <td>2.254590</td>\n",
       "      <td>1.495216e+05</td>\n",
       "      <td>3.093255</td>\n",
       "      <td>6.131841</td>\n",
       "    </tr>\n",
       "    <tr>\n",
       "      <th>std</th>\n",
       "      <td>2.877501e+06</td>\n",
       "      <td>6.860447</td>\n",
       "      <td>81.946832</td>\n",
       "      <td>15.518599</td>\n",
       "      <td>0.533683</td>\n",
       "      <td>3.020441e+05</td>\n",
       "      <td>2.187994</td>\n",
       "      <td>2.175426</td>\n",
       "    </tr>\n",
       "    <tr>\n",
       "      <th>min</th>\n",
       "      <td>5.550000e+02</td>\n",
       "      <td>2.000000</td>\n",
       "      <td>33.000000</td>\n",
       "      <td>17.000000</td>\n",
       "      <td>1.000000</td>\n",
       "      <td>2.378944e+04</td>\n",
       "      <td>0.000000</td>\n",
       "      <td>3.000000</td>\n",
       "    </tr>\n",
       "    <tr>\n",
       "      <th>25%</th>\n",
       "      <td>2.515665e+06</td>\n",
       "      <td>6.000000</td>\n",
       "      <td>82.000000</td>\n",
       "      <td>33.500000</td>\n",
       "      <td>2.000000</td>\n",
       "      <td>3.988048e+04</td>\n",
       "      <td>1.000000</td>\n",
       "      <td>4.000000</td>\n",
       "    </tr>\n",
       "    <tr>\n",
       "      <th>50%</th>\n",
       "      <td>5.025043e+06</td>\n",
       "      <td>11.000000</td>\n",
       "      <td>136.000000</td>\n",
       "      <td>48.000000</td>\n",
       "      <td>2.000000</td>\n",
       "      <td>6.573680e+04</td>\n",
       "      <td>3.000000</td>\n",
       "      <td>6.000000</td>\n",
       "    </tr>\n",
       "    <tr>\n",
       "      <th>75%</th>\n",
       "      <td>7.477929e+06</td>\n",
       "      <td>16.000000</td>\n",
       "      <td>192.000000</td>\n",
       "      <td>59.500000</td>\n",
       "      <td>2.000000</td>\n",
       "      <td>1.399620e+05</td>\n",
       "      <td>5.000000</td>\n",
       "      <td>8.000000</td>\n",
       "    </tr>\n",
       "    <tr>\n",
       "      <th>max</th>\n",
       "      <td>9.999832e+06</td>\n",
       "      <td>55.000000</td>\n",
       "      <td>669.000000</td>\n",
       "      <td>96.000000</td>\n",
       "      <td>7.000000</td>\n",
       "      <td>1.632004e+07</td>\n",
       "      <td>6.000000</td>\n",
       "      <td>9.000000</td>\n",
       "    </tr>\n",
       "  </tbody>\n",
       "</table>\n",
       "</div>"
      ],
      "text/plain": [
       "          client_id  clnt_tenure_yr  clnt_tenure_mnth      clnt_age  \\\n",
       "count  5.048500e+04    50485.000000      50485.000000  50485.000000   \n",
       "mean   5.006173e+06       12.031891        150.417391     47.320362   \n",
       "std    2.877501e+06        6.860447         81.946832     15.518599   \n",
       "min    5.550000e+02        2.000000         33.000000     17.000000   \n",
       "25%    2.515665e+06        6.000000         82.000000     33.500000   \n",
       "50%    5.025043e+06       11.000000        136.000000     48.000000   \n",
       "75%    7.477929e+06       16.000000        192.000000     59.500000   \n",
       "max    9.999832e+06       55.000000        669.000000     96.000000   \n",
       "\n",
       "          num_accts           bal  calls_6_mnth  logons_6_mnth  \n",
       "count  50485.000000  5.048500e+04  50485.000000   50485.000000  \n",
       "mean       2.254590  1.495216e+05      3.093255       6.131841  \n",
       "std        0.533683  3.020441e+05      2.187994       2.175426  \n",
       "min        1.000000  2.378944e+04      0.000000       3.000000  \n",
       "25%        2.000000  3.988048e+04      1.000000       4.000000  \n",
       "50%        2.000000  6.573680e+04      3.000000       6.000000  \n",
       "75%        2.000000  1.399620e+05      5.000000       8.000000  \n",
       "max        7.000000  1.632004e+07      6.000000       9.000000  "
      ]
     },
     "execution_count": 234,
     "metadata": {},
     "output_type": "execute_result"
    }
   ],
   "source": [
    "# Summary of numerical columns\n",
    "numerical_summary = unique_client_df[numerical_cols].describe()\n",
    "numerical_summary"
   ]
  },
  {
   "cell_type": "code",
   "execution_count": 140,
   "id": "d0be5c16-fb0d-4002-a33c-a8308b166ff9",
   "metadata": {},
   "outputs": [
    {
     "data": {
      "text/plain": [
       "{'gendr': gendr\n",
       " U    17280\n",
       " M    16947\n",
       " F    16258\n",
       " Name: count, dtype: int64,\n",
       " 'Variation': Variation\n",
       " Test       26959\n",
       " Control    23526\n",
       " Name: count, dtype: int64,\n",
       " 'process_step': process_step\n",
       " confirm    28129\n",
       " start      12953\n",
       " step_1      4206\n",
       " step_3      3148\n",
       " step_2      2049\n",
       " Name: count, dtype: int64}"
      ]
     },
     "execution_count": 140,
     "metadata": {},
     "output_type": "execute_result"
    }
   ],
   "source": [
    "# Frequency tables for categorical variables\n",
    "frequency_table = {col: unique_client_df[col].value_counts() for col in ['gendr', 'Variation', 'process_step']}\n",
    "frequency_table"
   ]
  },
  {
   "cell_type": "code",
   "execution_count": null,
   "id": "9987972a-bdab-452c-9dc2-46fa1e266bdc",
   "metadata": {},
   "outputs": [],
   "source": [
    "# Measures of Centrality (age)"
   ]
  },
  {
   "cell_type": "code",
   "execution_count": 142,
   "id": "23dbb798-f859-4ade-8d51-4736a342f30e",
   "metadata": {},
   "outputs": [
    {
     "data": {
      "text/plain": [
       "(47.32036248390611, 48.0, 58.5)"
      ]
     },
     "execution_count": 142,
     "metadata": {},
     "output_type": "execute_result"
    }
   ],
   "source": [
    "mean_age = unique_client_df['clnt_age'].mean()\n",
    "median_age = unique_client_df['clnt_age'].median()\n",
    "mode_age = unique_client_df['clnt_age'].mode()[0]\n",
    "\n",
    "mean_age, median_age, mode_age"
   ]
  },
  {
   "cell_type": "code",
   "execution_count": null,
   "id": "882ac6ce-4f25-45d2-a79b-21046db84f6e",
   "metadata": {},
   "outputs": [],
   "source": [
    "# Measures of Dispersion (age)"
   ]
  },
  {
   "cell_type": "code",
   "execution_count": 144,
   "id": "5821b053-894d-4edc-bd3c-c07fa1e3137a",
   "metadata": {},
   "outputs": [
    {
     "data": {
      "text/plain": [
       "(240.8269128311251,\n",
       " 15.51859893260745,\n",
       " 17.0,\n",
       " 96.0,\n",
       " 79.0,\n",
       " 0.25    33.5\n",
       " 0.50    48.0\n",
       " 0.75    59.5\n",
       " Name: clnt_age, dtype: float64)"
      ]
     },
     "execution_count": 144,
     "metadata": {},
     "output_type": "execute_result"
    }
   ],
   "source": [
    "variance_age = unique_client_df['clnt_age'].var()\n",
    "std_dev_age = unique_client_df['clnt_age'].std()\n",
    "min_age = unique_client_df['clnt_age'].min()\n",
    "max_age = unique_client_df['clnt_age'].max()\n",
    "range_age = max_age - min_age\n",
    "quantiles_age = unique_client_df['clnt_age'].quantile([0.25, 0.5, 0.75])\n",
    "\n",
    "variance_age, std_dev_age, min_age, max_age, range_age, quantiles_age"
   ]
  },
  {
   "cell_type": "markdown",
   "id": "1d502a06-86cc-44b0-844c-103fd356175e",
   "metadata": {},
   "source": [
    "##### Sumary statistics for Client Age\n",
    "- The average age of the client base is 47 years old with a median of 48 years old, indicating most Vanguard clients are middle aged.\n",
    "- Minimum age is 17 years old and the maximum age is 96 years old with a range of 79 years."
   ]
  },
  {
   "cell_type": "code",
   "execution_count": 146,
   "id": "3ee7c42d-045d-4b75-8ec5-41bee82986f4",
   "metadata": {},
   "outputs": [
    {
     "name": "stderr",
     "output_type": "stream",
     "text": [
      "/var/folders/hh/hx7f_d913pbf5gbc452qrps00000gp/T/ipykernel_13999/3113764585.py:9: FutureWarning: \n",
      "\n",
      "Passing `palette` without assigning `hue` is deprecated and will be removed in v0.14.0. Assign the `x` variable to `hue` and set `legend=False` for the same effect.\n",
      "\n",
      "  sns.countplot(x='age_bins', data=unique_client_df, order=labels, palette='Reds')\n"
     ]
    },
    {
     "data": {
      "image/png": "[encoded data removed]",
      "text/plain": [
       "<Figure size 1200x600 with 1 Axes>"
      ]
     },
     "metadata": {},
     "output_type": "display_data"
    }
   ],
   "source": [
    "# Histogram (age)\n",
    "# Create bins for age in 5-year intervals and categorize\n",
    "bins = range(15, 100, 5)  # Age bins from 15 to 95 in steps of 5\n",
    "labels = [f\"{i}-{i+4}\" for i in bins[:-1]]  # Labels like '15-19', '20-24', etc.\n",
    "unique_client_df['age_bins'] = pd.cut(unique_client_df['clnt_age'], bins=bins, labels=labels, right=False)\n",
    "\n",
    "# Plotting the age distribution with bins\n",
    "plt.figure(figsize=(12, 6))\n",
    "sns.countplot(x='age_bins', data=unique_client_df, order=labels, palette='Reds')\n",
    "plt.title('Age Distribution in 5-Year Bins')\n",
    "plt.show()\n"
   ]
  },
  {
   "cell_type": "code",
   "execution_count": 152,
   "id": "5a26ab15-5a59-46d8-a9cf-397312121daf",
   "metadata": {},
   "outputs": [
    {
     "data": {
      "text/html": [
       "<div>\n",
       "<style scoped>\n",
       "    .dataframe tbody tr th:only-of-type {\n",
       "        vertical-align: middle;\n",
       "    }\n",
       "\n",
       "    .dataframe tbody tr th {\n",
       "        vertical-align: top;\n",
       "    }\n",
       "\n",
       "    .dataframe thead th {\n",
       "        text-align: right;\n",
       "    }\n",
       "</style>\n",
       "<table border=\"1\" class=\"dataframe\">\n",
       "  <thead>\n",
       "    <tr style=\"text-align: right;\">\n",
       "      <th></th>\n",
       "      <th>Age Bin</th>\n",
       "      <th>Count</th>\n",
       "      <th>Percentage</th>\n",
       "    </tr>\n",
       "  </thead>\n",
       "  <tbody>\n",
       "    <tr>\n",
       "      <th>0</th>\n",
       "      <td>15-19</td>\n",
       "      <td>472</td>\n",
       "      <td>0.934931</td>\n",
       "    </tr>\n",
       "    <tr>\n",
       "      <th>1</th>\n",
       "      <td>20-24</td>\n",
       "      <td>2871</td>\n",
       "      <td>5.686838</td>\n",
       "    </tr>\n",
       "    <tr>\n",
       "      <th>2</th>\n",
       "      <td>25-29</td>\n",
       "      <td>5187</td>\n",
       "      <td>10.274339</td>\n",
       "    </tr>\n",
       "    <tr>\n",
       "      <th>3</th>\n",
       "      <td>30-34</td>\n",
       "      <td>5345</td>\n",
       "      <td>10.587303</td>\n",
       "    </tr>\n",
       "    <tr>\n",
       "      <th>4</th>\n",
       "      <td>35-39</td>\n",
       "      <td>4328</td>\n",
       "      <td>8.572843</td>\n",
       "    </tr>\n",
       "    <tr>\n",
       "      <th>5</th>\n",
       "      <td>40-44</td>\n",
       "      <td>4190</td>\n",
       "      <td>8.299495</td>\n",
       "    </tr>\n",
       "    <tr>\n",
       "      <th>6</th>\n",
       "      <td>45-49</td>\n",
       "      <td>4476</td>\n",
       "      <td>8.866000</td>\n",
       "    </tr>\n",
       "    <tr>\n",
       "      <th>7</th>\n",
       "      <td>50-54</td>\n",
       "      <td>5406</td>\n",
       "      <td>10.708131</td>\n",
       "    </tr>\n",
       "    <tr>\n",
       "      <th>8</th>\n",
       "      <td>55-59</td>\n",
       "      <td>5652</td>\n",
       "      <td>11.195405</td>\n",
       "    </tr>\n",
       "    <tr>\n",
       "      <th>9</th>\n",
       "      <td>60-64</td>\n",
       "      <td>5151</td>\n",
       "      <td>10.203031</td>\n",
       "    </tr>\n",
       "    <tr>\n",
       "      <th>10</th>\n",
       "      <td>65-69</td>\n",
       "      <td>3976</td>\n",
       "      <td>7.875607</td>\n",
       "    </tr>\n",
       "    <tr>\n",
       "      <th>11</th>\n",
       "      <td>70-74</td>\n",
       "      <td>1999</td>\n",
       "      <td>3.959592</td>\n",
       "    </tr>\n",
       "    <tr>\n",
       "      <th>12</th>\n",
       "      <td>75-79</td>\n",
       "      <td>857</td>\n",
       "      <td>1.697534</td>\n",
       "    </tr>\n",
       "    <tr>\n",
       "      <th>13</th>\n",
       "      <td>80-84</td>\n",
       "      <td>387</td>\n",
       "      <td>0.766564</td>\n",
       "    </tr>\n",
       "    <tr>\n",
       "      <th>14</th>\n",
       "      <td>85-89</td>\n",
       "      <td>145</td>\n",
       "      <td>0.287214</td>\n",
       "    </tr>\n",
       "    <tr>\n",
       "      <th>15</th>\n",
       "      <td>90-94</td>\n",
       "      <td>40</td>\n",
       "      <td>0.079231</td>\n",
       "    </tr>\n",
       "  </tbody>\n",
       "</table>\n",
       "</div>"
      ],
      "text/plain": [
       "   Age Bin  Count  Percentage\n",
       "0    15-19    472    0.934931\n",
       "1    20-24   2871    5.686838\n",
       "2    25-29   5187   10.274339\n",
       "3    30-34   5345   10.587303\n",
       "4    35-39   4328    8.572843\n",
       "5    40-44   4190    8.299495\n",
       "6    45-49   4476    8.866000\n",
       "7    50-54   5406   10.708131\n",
       "8    55-59   5652   11.195405\n",
       "9    60-64   5151   10.203031\n",
       "10   65-69   3976    7.875607\n",
       "11   70-74   1999    3.959592\n",
       "12   75-79    857    1.697534\n",
       "13   80-84    387    0.766564\n",
       "14   85-89    145    0.287214\n",
       "15   90-94     40    0.079231"
      ]
     },
     "execution_count": 152,
     "metadata": {},
     "output_type": "execute_result"
    }
   ],
   "source": [
    "# Count the number of clients in each age bin\n",
    "age_bin_counts = unique_client_df['age_bins'].value_counts(sort=False)  # `sort=False` keeps the bin order\n",
    "\n",
    "# Calculate percentages\n",
    "age_bin_percentages = (age_bin_counts / len(unique_client_df)) * 100\n",
    "\n",
    "# Combine counts and percentages into a DataFrame\n",
    "age_distribution = pd.DataFrame({\n",
    "    'Age Bin': labels,\n",
    "    'Count': age_bin_counts.values,\n",
    "    'Percentage': age_bin_percentages.values\n",
    "})\n",
    "\n",
    "# Display the DataFrame\n",
    "age_distribution"
   ]
  },
  {
   "cell_type": "code",
   "execution_count": 154,
   "id": "0eede807-5147-4d3e-b933-769ce87b25d2",
   "metadata": {},
   "outputs": [
    {
     "name": "stderr",
     "output_type": "stream",
     "text": [
      "/var/folders/hh/hx7f_d913pbf5gbc452qrps00000gp/T/ipykernel_13999/2529765054.py:3: FutureWarning: \n",
      "\n",
      "Passing `palette` without assigning `hue` is deprecated and will be removed in v0.14.0. Assign the `x` variable to `hue` and set `legend=False` for the same effect.\n",
      "\n",
      "  sns.barplot(\n"
     ]
    },
    {
     "data": {
      "image/png": "[encoded data removed]",
      "text/plain": [
       "<Figure size 1200x600 with 1 Axes>"
      ]
     },
     "metadata": {},
     "output_type": "display_data"
    }
   ],
   "source": [
    "# Bar plot for age bin percentages\n",
    "plt.figure(figsize=(12, 6))\n",
    "sns.barplot(\n",
    "    x='Age Bin', \n",
    "    y='Percentage', \n",
    "    data=age_distribution, \n",
    "    palette='Reds'\n",
    ")\n",
    "plt.title('Percentage Distribution of Age in 5-Year Bins')\n",
    "plt.xlabel('Age Bin')\n",
    "plt.ylabel('Percentage')\n",
    "plt.xticks(rotation=45)\n",
    "plt.savefig(\"../figures/percentage_age_bins.jpeg\", format=\"jpeg\", dpi=300)\n",
    "plt.show()"
   ]
  },
  {
   "cell_type": "markdown",
   "id": "98f58ddb-049c-4b23-b298-92db4fa52f0f",
   "metadata": {},
   "source": [
    "#### Bar Plot for 'clnt_age'\n",
    "- Over 30% of clisnts fall within the 50-64 age range\n",
    "- A somewhat even distribution of ages between 25 - 69 years old"
   ]
  },
  {
   "cell_type": "code",
   "execution_count": 156,
   "id": "6709cd0e-3d5e-427d-b26b-1169fe0f3d76",
   "metadata": {},
   "outputs": [
    {
     "data": {
      "image/png": "[encoded data removed]",
      "text/plain": [
       "<Figure size 640x480 with 1 Axes>"
      ]
     },
     "metadata": {},
     "output_type": "display_data"
    }
   ],
   "source": [
    "# box\n",
    "sns.boxplot(x = unique_client_df['clnt_age'], color=\"Red\");\n",
    "plt.savefig(\"../figures/Age_boxplot.jpeg\", format=\"jpeg\", dpi=300)\n",
    "plt.show()"
   ]
  },
  {
   "cell_type": "markdown",
   "id": "1b3ba64e-186c-4c1a-b982-0b5431c173a7",
   "metadata": {},
   "source": [
    "#### Box plot for 'clnt_age'\n",
    "- 1st quartile(0.25) is 33.5 years old\n",
    "- 2nd quartile(0.50) is 48.0 years old\n",
    "- 3rd quartile(0.75) is 59.5 years old\n",
    "- The upper whisker spans over 90 years old."
   ]
  },
  {
   "cell_type": "code",
   "execution_count": 158,
   "id": "3cee83cc-847d-4049-9ddc-4f4233d9de82",
   "metadata": {},
   "outputs": [
    {
     "data": {
      "text/plain": [
       "(149521.59216282066, 65736.79999999999, 31188.62)"
      ]
     },
     "execution_count": 158,
     "metadata": {},
     "output_type": "execute_result"
    }
   ],
   "source": [
    "# Measures of Centrality (balance)\n",
    "mean_bal = unique_client_df['bal'].mean()\n",
    "median_bal = unique_client_df['bal'].median()\n",
    "mode_bal = unique_client_df['bal'].mode()[0]\n",
    "\n",
    "mean_bal, median_bal, mode_bal"
   ]
  },
  {
   "cell_type": "code",
   "execution_count": 160,
   "id": "aad292e6-cfbf-46e8-9a7f-6e3b53b4556f",
   "metadata": {},
   "outputs": [
    {
     "data": {
      "text/plain": [
       "(91230609839.11624,\n",
       " 302044.0528120298,\n",
       " 23789.44,\n",
       " 16320040.15,\n",
       " 16296250.71,\n",
       " 0.25    33.5\n",
       " 0.50    48.0\n",
       " 0.75    59.5\n",
       " Name: clnt_age, dtype: float64)"
      ]
     },
     "execution_count": 160,
     "metadata": {},
     "output_type": "execute_result"
    }
   ],
   "source": [
    "# Measures of Dispersion (age)\n",
    "variance_bal = unique_client_df['bal'].var()\n",
    "std_dev_bal = unique_client_df['bal'].std()\n",
    "min_bal = unique_client_df['bal'].min()\n",
    "max_bal = unique_client_df['bal'].max()\n",
    "range_bal = max_bal - min_bal\n",
    "quantiles_bal = unique_client_df['clnt_age'].quantile([0.25, 0.5, 0.75])\n",
    "\n",
    "variance_bal, std_dev_bal, min_bal, max_bal, range_bal, quantiles_bal"
   ]
  },
  {
   "cell_type": "markdown",
   "id": "34c76e4b-f6ed-4e97-96a6-6b31c121d52b",
   "metadata": {},
   "source": [
    "#### Summary Statistics for 'bal'\n",
    "- The average account balance is 149,521\n",
    "- Median account balance is 65,736\n",
    "- Which suggests a right-skewed distribution, most accounts are close to the median but there are outliers with very high balances pull the mean upward.\n",
    "- Most account balances have less than 65K\n",
    "- The range between the lowest and highest account balance is very high, 16,296,250.71"
   ]
  },
  {
   "cell_type": "code",
   "execution_count": 162,
   "id": "d26d4ea7-15d5-4864-bf20-53718acd5e01",
   "metadata": {},
   "outputs": [
    {
     "name": "stderr",
     "output_type": "stream",
     "text": [
      "/var/folders/hh/hx7f_d913pbf5gbc452qrps00000gp/T/ipykernel_13999/1735712646.py:7: FutureWarning: \n",
      "\n",
      "Passing `palette` without assigning `hue` is deprecated and will be removed in v0.14.0. Assign the `x` variable to `hue` and set `legend=False` for the same effect.\n",
      "\n",
      "  sns.countplot(x='balance_category_fixed', data=unique_client_df, palette='Reds', order=balance_labels_fixed)\n"
     ]
    },
    {
     "data": {
      "image/png": "[encoded data removed]",
      "text/plain": [
       "<Figure size 640x480 with 1 Axes>"
      ]
     },
     "metadata": {},
     "output_type": "display_data"
    }
   ],
   "source": [
    "# Discretizing balances using fixed ranges\n",
    "balance_bins_fixed = [0, 50000, 100000, 200000, 500000, 1000000, df['bal'].max()]\n",
    "balance_labels_fixed = ['0-50K', '50K-100K', '100K-200K', '200K-500K', '500K-1M', 'Above $1M']\n",
    "unique_client_df['balance_category_fixed'] = pd.cut(unique_client_df['bal'], bins=balance_bins_fixed, labels=balance_labels_fixed, right=False)\n",
    "\n",
    "# Visualizing the distribution of balance categories with fixed ranges\n",
    "sns.countplot(x='balance_category_fixed', data=unique_client_df, palette='Reds', order=balance_labels_fixed)\n",
    "plt.show()\n"
   ]
  },
  {
   "cell_type": "code",
   "execution_count": 164,
   "id": "adde3130-3abe-4122-90ed-023df19f99d8",
   "metadata": {},
   "outputs": [
    {
     "data": {
      "text/html": [
       "<div>\n",
       "<style scoped>\n",
       "    .dataframe tbody tr th:only-of-type {\n",
       "        vertical-align: middle;\n",
       "    }\n",
       "\n",
       "    .dataframe tbody tr th {\n",
       "        vertical-align: top;\n",
       "    }\n",
       "\n",
       "    .dataframe thead th {\n",
       "        text-align: right;\n",
       "    }\n",
       "</style>\n",
       "<table border=\"1\" class=\"dataframe\">\n",
       "  <thead>\n",
       "    <tr style=\"text-align: right;\">\n",
       "      <th></th>\n",
       "      <th>Balance Category</th>\n",
       "      <th>Count</th>\n",
       "      <th>Percentage</th>\n",
       "    </tr>\n",
       "  </thead>\n",
       "  <tbody>\n",
       "    <tr>\n",
       "      <th>0</th>\n",
       "      <td>0-50K</td>\n",
       "      <td>18542</td>\n",
       "      <td>36.727741</td>\n",
       "    </tr>\n",
       "    <tr>\n",
       "      <th>1</th>\n",
       "      <td>50K-100K</td>\n",
       "      <td>14464</td>\n",
       "      <td>28.650094</td>\n",
       "    </tr>\n",
       "    <tr>\n",
       "      <th>2</th>\n",
       "      <td>100K-200K</td>\n",
       "      <td>8783</td>\n",
       "      <td>17.397247</td>\n",
       "    </tr>\n",
       "    <tr>\n",
       "      <th>3</th>\n",
       "      <td>200K-500K</td>\n",
       "      <td>5981</td>\n",
       "      <td>11.847083</td>\n",
       "    </tr>\n",
       "    <tr>\n",
       "      <th>4</th>\n",
       "      <td>500K-1M</td>\n",
       "      <td>1887</td>\n",
       "      <td>3.737744</td>\n",
       "    </tr>\n",
       "    <tr>\n",
       "      <th>5</th>\n",
       "      <td>Above $1M</td>\n",
       "      <td>827</td>\n",
       "      <td>1.638110</td>\n",
       "    </tr>\n",
       "  </tbody>\n",
       "</table>\n",
       "</div>"
      ],
      "text/plain": [
       "  Balance Category  Count  Percentage\n",
       "0            0-50K  18542   36.727741\n",
       "1         50K-100K  14464   28.650094\n",
       "2        100K-200K   8783   17.397247\n",
       "3        200K-500K   5981   11.847083\n",
       "4          500K-1M   1887    3.737744\n",
       "5        Above $1M    827    1.638110"
      ]
     },
     "execution_count": 164,
     "metadata": {},
     "output_type": "execute_result"
    }
   ],
   "source": [
    "# Count the occurrences of each balance category\n",
    "balance_counts = unique_client_df['balance_category_fixed'].value_counts(sort=False)\n",
    "\n",
    "# Calculate percentages\n",
    "balance_percentages = (balance_counts / len(unique_client_df)) * 100\n",
    "\n",
    "# Combine counts and percentages into a DataFrame for better visualization\n",
    "balance_distribution = pd.DataFrame({\n",
    "    'Balance Category': balance_labels_fixed,\n",
    "    'Count': balance_counts.values,\n",
    "    'Percentage': balance_percentages.values\n",
    "})\n",
    "\n",
    "# Display the DataFrame\n",
    "balance_distribution"
   ]
  },
  {
   "cell_type": "code",
   "execution_count": 166,
   "id": "795f7bc1-c343-463f-8891-9c6ef6386964",
   "metadata": {},
   "outputs": [
    {
     "name": "stderr",
     "output_type": "stream",
     "text": [
      "/var/folders/hh/hx7f_d913pbf5gbc452qrps00000gp/T/ipykernel_13999/3894658835.py:2: FutureWarning: \n",
      "\n",
      "Passing `palette` without assigning `hue` is deprecated and will be removed in v0.14.0. Assign the `x` variable to `hue` and set `legend=False` for the same effect.\n",
      "\n",
      "  sns.barplot(\n"
     ]
    },
    {
     "data": {
      "image/png": "[encoded data removed]",
      "text/plain": [
       "<Figure size 640x480 with 1 Axes>"
      ]
     },
     "metadata": {},
     "output_type": "display_data"
    }
   ],
   "source": [
    "# Bar plot for percentages\n",
    "sns.barplot(\n",
    "    x=balance_distribution['Balance Category'], \n",
    "    y=balance_distribution['Percentage'], \n",
    "    palette='Reds'\n",
    ")\n",
    "plt.title('Percentage Distribution of Account Balances (Fixed Ranges)')\n",
    "plt.xlabel('Balances')\n",
    "plt.ylabel('Percentage')\n",
    "plt.savefig(\"../figures/percentage_distribution_balance.jpeg\", format=\"jpeg\", dpi=300)\n",
    "plt.show()\n"
   ]
  },
  {
   "cell_type": "markdown",
   "id": "dcac7fa6-8542-4408-aac2-a07f5e7611fc",
   "metadata": {},
   "source": [
    "#### BarPlot for 'bal'\n",
    "- over 50% of clients have less than 100K\n",
    "- less than 2% of clients have above 1M in accounts"
   ]
  },
  {
   "cell_type": "code",
   "execution_count": 178,
   "id": "e633ca82-aeb3-432c-857a-3ac8b3dd62bd",
   "metadata": {},
   "outputs": [
    {
     "name": "stderr",
     "output_type": "stream",
     "text": [
      "/var/folders/hh/hx7f_d913pbf5gbc452qrps00000gp/T/ipykernel_13999/88569291.py:2: FutureWarning: \n",
      "\n",
      "Passing `palette` without assigning `hue` is deprecated and will be removed in v0.14.0. Assign the `x` variable to `hue` and set `legend=False` for the same effect.\n",
      "\n",
      "  sns.countplot(x='Variation', data=unique_client_df, palette='Reds', order=unique_client_df['Variation'].value_counts().index)\n"
     ]
    },
    {
     "data": {
      "image/png": "[encoded data removed]",
      "text/plain": [
       "<Figure size 640x480 with 1 Axes>"
      ]
     },
     "metadata": {},
     "output_type": "display_data"
    }
   ],
   "source": [
    "# Variation Frequency (Bar Plot)\n",
    "sns.countplot(x='Variation', data=unique_client_df, palette='Reds', order=unique_client_df['Variation'].value_counts().index)\n",
    "plt.title('Frequency of Variations (Control vs Test)')\n",
    "plt.xlabel('Variation (Control/Test)')\n",
    "plt.ylabel('Count')\n",
    "plt.show()"
   ]
  },
  {
   "cell_type": "code",
   "execution_count": 182,
   "id": "77579d02-6b5e-42cb-95c4-bafa1136d84e",
   "metadata": {},
   "outputs": [
    {
     "data": {
      "text/html": [
       "<div>\n",
       "<style scoped>\n",
       "    .dataframe tbody tr th:only-of-type {\n",
       "        vertical-align: middle;\n",
       "    }\n",
       "\n",
       "    .dataframe tbody tr th {\n",
       "        vertical-align: top;\n",
       "    }\n",
       "\n",
       "    .dataframe thead th {\n",
       "        text-align: right;\n",
       "    }\n",
       "</style>\n",
       "<table border=\"1\" class=\"dataframe\">\n",
       "  <thead>\n",
       "    <tr style=\"text-align: right;\">\n",
       "      <th></th>\n",
       "      <th>Variation</th>\n",
       "      <th>Count</th>\n",
       "      <th>Percentage</th>\n",
       "    </tr>\n",
       "  </thead>\n",
       "  <tbody>\n",
       "    <tr>\n",
       "      <th>0</th>\n",
       "      <td>Test</td>\n",
       "      <td>26959</td>\n",
       "      <td>53.40002</td>\n",
       "    </tr>\n",
       "    <tr>\n",
       "      <th>1</th>\n",
       "      <td>Control</td>\n",
       "      <td>23526</td>\n",
       "      <td>46.59998</td>\n",
       "    </tr>\n",
       "  </tbody>\n",
       "</table>\n",
       "</div>"
      ],
      "text/plain": [
       "  Variation  Count  Percentage\n",
       "0      Test  26959    53.40002\n",
       "1   Control  23526    46.59998"
      ]
     },
     "execution_count": 182,
     "metadata": {},
     "output_type": "execute_result"
    }
   ],
   "source": [
    "# Count occurrences of each variation\n",
    "variation_counts = unique_client_df['Variation'].value_counts()\n",
    "\n",
    "# Calculate percentages\n",
    "variation_percentages = (variation_counts / len(unique_client_df)) * 100\n",
    "\n",
    "# Combine into a DataFrame for better visualization\n",
    "variation_distribution = pd.DataFrame({\n",
    "    'Variation': variation_counts.index,\n",
    "    'Count': variation_counts.values,\n",
    "    'Percentage': variation_percentages.values\n",
    "})\n",
    "\n",
    "# Display the DataFrame\n",
    "variation_distribution"
   ]
  },
  {
   "cell_type": "markdown",
   "id": "707ebd18-7410-4d8a-b008-a2e59d32a193",
   "metadata": {},
   "source": [
    "### Frequencies for variation\n",
    "- There is an uneven split of control and test participants in this test"
   ]
  },
  {
   "cell_type": "code",
   "execution_count": 184,
   "id": "3c09d614-8a3e-414b-8701-2ec63bcd41b7",
   "metadata": {},
   "outputs": [
    {
     "name": "stderr",
     "output_type": "stream",
     "text": [
      "/var/folders/hh/hx7f_d913pbf5gbc452qrps00000gp/T/ipykernel_13999/299397690.py:2: FutureWarning: \n",
      "\n",
      "Passing `palette` without assigning `hue` is deprecated and will be removed in v0.14.0. Assign the `x` variable to `hue` and set `legend=False` for the same effect.\n",
      "\n",
      "  sns.barplot(\n"
     ]
    },
    {
     "data": {
      "image/png": "[encoded data removed]",
      "text/plain": [
       "<Figure size 640x480 with 1 Axes>"
      ]
     },
     "metadata": {},
     "output_type": "display_data"
    }
   ],
   "source": [
    "# Bar plot for percentages\n",
    "sns.barplot(\n",
    "    x=variation_distribution['Variation'], \n",
    "    y=variation_distribution['Percentage'], \n",
    "    palette='Reds'\n",
    ")\n",
    "plt.title('Percentage Distribution of Variations (Control vs Test)')\n",
    "plt.xlabel('Variation (Control/Test)')\n",
    "plt.ylabel('Percentage')\n",
    "plt.savefig(\"../figures/variation_percentage_distribution.jpeg\", format=\"jpeg\", dpi=300)\n",
    "plt.show()"
   ]
  },
  {
   "cell_type": "code",
   "execution_count": 190,
   "id": "119fe6f2-407f-41a9-ae69-431ee3eadc3c",
   "metadata": {},
   "outputs": [
    {
     "data": {
      "text/plain": [
       "{'Age': {'Skewness': 0.07961151837760695, 'Kurtosis': -0.9469682221320257},\n",
       " 'Balance': {'Skewness': 11.473572927049844, 'Kurtosis': 294.0745182483827},\n",
       " 'Process Step': {'Skewness': 1.022546713697333,\n",
       "  'Kurtosis': -0.547379936630465},\n",
       " 'Variation': {'Skewness': 0.0, 'Kurtosis': -2.0}}"
      ]
     },
     "execution_count": 190,
     "metadata": {},
     "output_type": "execute_result"
    }
   ],
   "source": [
    "# Calculate skewness and kurtosis for numerical columns 'clnt_age' and 'bal'\n",
    "age_skewness = skew(unique_client_df['clnt_age'])\n",
    "age_kurtosis = kurtosis(unique_client_df['clnt_age'])\n",
    "\n",
    "balance_skewness = skew(unique_client_df['bal'])\n",
    "balance_kurtosis = kurtosis(unique_client_df['bal'])\n",
    "\n",
    "# For categorical columns like 'process_step' and 'Variation', calculate frequency-based skewness/kurtosis\n",
    "process_step_counts = unique_client_df['process_step'].value_counts()\n",
    "variation_counts = unique_client_df['Variation'].value_counts()\n",
    "\n",
    "process_step_skewness = skew(process_step_counts)\n",
    "process_step_kurtosis = kurtosis(process_step_counts)\n",
    "\n",
    "variation_skewness = skew(variation_counts)\n",
    "variation_kurtosis = kurtosis(variation_counts)\n",
    "\n",
    "# Creating a dictionary to summarize results\n",
    "skew_kurtosis_results = {\n",
    "    'Age': {'Skewness': age_skewness, 'Kurtosis': age_kurtosis},\n",
    "    'Balance': {'Skewness': balance_skewness, 'Kurtosis': balance_kurtosis},\n",
    "    'Process Step': {'Skewness': process_step_skewness, 'Kurtosis': process_step_kurtosis},\n",
    "    'Variation': {'Skewness': variation_skewness, 'Kurtosis': variation_kurtosis},\n",
    "}\n",
    "\n",
    "skew_kurtosis_results\n"
   ]
  },
  {
   "cell_type": "code",
   "execution_count": 188,
   "id": "839383b7-1bf1-48f9-a7f2-f195330aa326",
   "metadata": {},
   "outputs": [
    {
     "data": {
      "image/png": "[encoded data removed]",
      "text/plain": [
       "<Figure size 640x480 with 1 Axes>"
      ]
     },
     "metadata": {},
     "output_type": "display_data"
    }
   ],
   "source": [
    "# Generating a Q-Q plot for 'clnt_age' to check if its distribution follows a normal distribution\n",
    "sm.qqplot(unique_client_df['clnt_age'], line='s');\n",
    "plt.savefig(\"../figures/age_qq.jpeg\", format=\"jpeg\", dpi=300)\n",
    "plt.show()"
   ]
  },
  {
   "cell_type": "code",
   "execution_count": 217,
   "id": "e9d176c5-c3be-4a87-a318-725d7e3cbf4e",
   "metadata": {},
   "outputs": [],
   "source": [
    "# Ensure datetime is in the correct format for sorting\n",
    "unique_client_df['date_time'] = pd.to_datetime(unique_client_df['date_time'])\n",
    "\n",
    "# Sort by client_id and date_time to keep the latest entry\n",
    "unique_client_df = unique_client_df.sort_values(by=['client_id', 'date_time'])\n",
    "\n",
    "# Keep only the last 'confirm' step per client\n",
    "latest_confirm_client = unique_client_df[unique_client_df['process_step'] == 'confirm']\n",
    "latest_confirm_client = latest_confirm_client.groupby('client_id').tail(1)\n",
    "\n",
    "# Then, ensure only one 'confirm' step per visit\n",
    "latest_confirm_visit = latest_confirm_client.iloc[::-1].drop_duplicates(subset=['visit_id', 'process_step'], keep='first').iloc[::-1]\n",
    "\n",
    "\n",
    "# Combine this filtered data with the rest of the steps\n",
    "filtered_client_df = pd.concat([unique_client_df[unique_client_df['process_step'] != 'confirm'], latest_confirm_df])"
   ]
  },
  {
   "cell_type": "code",
   "execution_count": 219,
   "id": "e82b2e11-1ccc-4de7-9fa7-68cdda64b596",
   "metadata": {},
   "outputs": [],
   "source": [
    "# Define the desired order for process steps\n",
    "step_order = ['start', 'step_1', 'step_2', 'step_3', 'confirm']\n",
    "\n",
    "# Ensure the column 'process_step' follows this order\n",
    "filtered_client_df['process_step'] = pd.Categorical(filtered_client_df['process_step'], categories=step_order, ordered=True)"
   ]
  },
  {
   "cell_type": "code",
   "execution_count": null,
   "id": "2391cf86-f36b-457f-a443-98b33756beba",
   "metadata": {},
   "outputs": [],
   "source": []
  },
  {
   "cell_type": "code",
   "execution_count": 196,
   "id": "fff6ca7c-0f01-4dd8-acaa-fb7fe40eee4a",
   "metadata": {},
   "outputs": [
    {
     "name": "stderr",
     "output_type": "stream",
     "text": [
      "/var/folders/hh/hx7f_d913pbf5gbc452qrps00000gp/T/ipykernel_13999/1524574089.py:3: FutureWarning: \n",
      "\n",
      "Passing `palette` without assigning `hue` is deprecated and will be removed in v0.14.0. Assign the `x` variable to `hue` and set `legend=False` for the same effect.\n",
      "\n",
      "  sns.barplot(\n"
     ]
    },
    {
     "data": {
      "image/png": "[encoded data removed]",
      "text/plain": [
       "<Figure size 1000x600 with 1 Axes>"
      ]
     },
     "metadata": {},
     "output_type": "display_data"
    }
   ],
   "source": [
    "# Bar plot for process step percentages\n",
    "plt.figure(figsize=(10, 6))\n",
    "sns.barplot(\n",
    "    x=process_step_distribution['Process Step'], \n",
    "    y=process_step_distribution['Percentage'], \n",
    "    order=step_order,  # Ensure the correct order\n",
    "    palette='Reds'\n",
    ")\n",
    "plt.title('Percentage Distribution of Process Steps')\n",
    "plt.xlabel('Process Step')\n",
    "plt.ylabel('Percentage')\n",
    "plt.savefig(\"../figures/process_step_percentage_distribution.jpeg\", format=\"jpeg\", dpi=300)\n",
    "plt.show()"
   ]
  },
  {
   "cell_type": "code",
   "execution_count": 221,
   "id": "954fbe89-50e7-4b99-89d5-0517089851da",
   "metadata": {},
   "outputs": [
    {
     "data": {
      "text/html": [
       "<div>\n",
       "<style scoped>\n",
       "    .dataframe tbody tr th:only-of-type {\n",
       "        vertical-align: middle;\n",
       "    }\n",
       "\n",
       "    .dataframe tbody tr th {\n",
       "        vertical-align: top;\n",
       "    }\n",
       "\n",
       "    .dataframe thead th {\n",
       "        text-align: right;\n",
       "    }\n",
       "</style>\n",
       "<table border=\"1\" class=\"dataframe\">\n",
       "  <thead>\n",
       "    <tr style=\"text-align: right;\">\n",
       "      <th></th>\n",
       "      <th>Process Step</th>\n",
       "      <th>Count</th>\n",
       "      <th>Percentage</th>\n",
       "    </tr>\n",
       "  </thead>\n",
       "  <tbody>\n",
       "    <tr>\n",
       "      <th>0</th>\n",
       "      <td>start</td>\n",
       "      <td>12953</td>\n",
       "      <td>25.657126</td>\n",
       "    </tr>\n",
       "    <tr>\n",
       "      <th>1</th>\n",
       "      <td>step_1</td>\n",
       "      <td>4206</td>\n",
       "      <td>8.331187</td>\n",
       "    </tr>\n",
       "    <tr>\n",
       "      <th>2</th>\n",
       "      <td>step_2</td>\n",
       "      <td>2049</td>\n",
       "      <td>4.058631</td>\n",
       "    </tr>\n",
       "    <tr>\n",
       "      <th>3</th>\n",
       "      <td>step_3</td>\n",
       "      <td>3148</td>\n",
       "      <td>6.235515</td>\n",
       "    </tr>\n",
       "    <tr>\n",
       "      <th>4</th>\n",
       "      <td>confirm</td>\n",
       "      <td>28129</td>\n",
       "      <td>55.717540</td>\n",
       "    </tr>\n",
       "  </tbody>\n",
       "</table>\n",
       "</div>"
      ],
      "text/plain": [
       "  Process Step  Count  Percentage\n",
       "0        start  12953   25.657126\n",
       "1       step_1   4206    8.331187\n",
       "2       step_2   2049    4.058631\n",
       "3       step_3   3148    6.235515\n",
       "4      confirm  28129   55.717540"
      ]
     },
     "execution_count": 221,
     "metadata": {},
     "output_type": "execute_result"
    }
   ],
   "source": [
    "#Count occurrences of each process step\n",
    "process_step_counts = filtered_client_df['process_step'].value_counts().reindex(step_order)\n",
    "\n",
    "# Calculate percentages\n",
    "process_step_percentages = (process_step_counts / len(filtered_client_df)) * 100\n",
    "\n",
    "# Combine counts and percentages into a DataFrame\n",
    "process_step_distribution = pd.DataFrame({\n",
    "    'Process Step': step_order,\n",
    "    'Count': process_step_counts.values,\n",
    "    'Percentage': process_step_percentages.values\n",
    "})\n",
    "\n",
    "# Display the DataFrame\n",
    "process_step_distribution"
   ]
  },
  {
   "cell_type": "code",
   "execution_count": 223,
   "id": "74976064-b04f-41e0-b6a5-68f5275a1692",
   "metadata": {},
   "outputs": [
    {
     "name": "stderr",
     "output_type": "stream",
     "text": [
      "/var/folders/hh/hx7f_d913pbf5gbc452qrps00000gp/T/ipykernel_13999/1938405914.py:2: FutureWarning: \n",
      "\n",
      "Passing `palette` without assigning `hue` is deprecated and will be removed in v0.14.0. Assign the `x` variable to `hue` and set `legend=False` for the same effect.\n",
      "\n",
      "  sns.countplot(x='process_step', data=filtered_client_df, order=step_order, palette='Reds')\n"
     ]
    },
    {
     "data": {
      "image/png": "[encoded data removed]",
      "text/plain": [
       "<Figure size 640x480 with 1 Axes>"
      ]
     },
     "metadata": {},
     "output_type": "display_data"
    }
   ],
   "source": [
    "# Process Step Frequency (Bar Plot)\n",
    "sns.countplot(x='process_step', data=filtered_client_df, order=step_order, palette='Reds')\n",
    "plt.title('Process Step Frequency (Filtered)')\n",
    "plt.xlabel('Process Step')\n",
    "plt.ylabel('Count')\n",
    "plt.show()"
   ]
  },
  {
   "cell_type": "markdown",
   "id": "be80d74e-525f-4cc8-a667-d1be9de54385",
   "metadata": {},
   "source": [
    "#### Frequencies for 'process_step'\n",
    "- there is a drop-off pattern, only 13.45% of users who started the process, reached the confirm step.\n",
    "- The biggest drop-off happens between \"start\" and \"step 1\", where nearly 21.1% of users abandon the process."
   ]
  }
 ],
 "metadata": {
  "kernelspec": {
   "display_name": "Python 3 (ipykernel)",
   "language": "python",
   "name": "python3"
  },
  "language_info": {
   "codemirror_mode": {
    "name": "ipython",
    "version": 3
   },
   "file_extension": ".py",
   "mimetype": "text/x-python",
   "name": "python",
   "nbconvert_exporter": "python",
   "pygments_lexer": "ipython3",
   "version": "3.12.4"
  }
 },
 "nbformat": 4,
 "nbformat_minor": 5
}
