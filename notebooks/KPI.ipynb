{
 "cells": [
  {
   "cell_type": "code",
   "execution_count": 2,
   "id": "36860d14-0a20-4236-805d-43c514a0fccf",
   "metadata": {},
   "outputs": [],
   "source": [
    "import pandas as pd\n",
    "import matplotlib.pyplot as plt\n",
    "import seaborn as sns\n",
    "import numpy as np\n",
    "from scipy.stats import chi2_contingency\n",
    "from scipy.stats.contingency import association\n",
    "import statsmodels.api as sm\n",
    "from scipy.stats import skew, kurtosis\n",
    "\n",
    "%matplotlib inline\n",
    "\n",
    "# Using the \"Reds\" palette\n",
    "sns.set_palette(\"Reds\")"
   ]
  },
  {
   "cell_type": "code",
   "execution_count": 3,
   "id": "3dfe9ff6-c8ee-4c4a-814c-6688f20617f7",
   "metadata": {},
   "outputs": [],
   "source": [
    "# Reload the dataset\n",
    "kpi_df = pd.read_csv('../data/clean/df_cleaned.csv')"
   ]
  },
  {
   "cell_type": "markdown",
   "id": "05841fa1-2858-4674-b928-5c92b6d09e12",
   "metadata": {},
   "source": [
    "### COMPLETION RATE KPI"
   ]
  },
  {
   "cell_type": "code",
   "execution_count": 6,
   "id": "4b19ecf1-2b84-4c4b-b0cb-5e0e5e7b9a10",
   "metadata": {},
   "outputs": [
    {
     "data": {
      "text/plain": [
       "(0.6756462315539269,\n",
       " Variation\n",
       " Control    0.655785\n",
       " Test       0.692978\n",
       " Name: client_id, dtype: float64)"
      ]
     },
     "execution_count": 6,
     "metadata": {},
     "output_type": "execute_result"
    }
   ],
   "source": [
    "# Filter data by unique clients and process steps\n",
    "total_users = kpi_df['client_id'].nunique()\n",
    "\n",
    "# Count users who completed the process (reached 'confirm')\n",
    "completed_users = kpi_df[kpi_df['process_step'] == 'confirm']['client_id'].nunique()\n",
    "\n",
    "# Calculate overall completion rate\n",
    "completion_rate_overall = completed_users / total_users\n",
    "\n",
    "# Calculate completion rates for Test and Control groups\n",
    "completed_users_by_group = kpi_df[kpi_df['process_step'] == 'confirm'].groupby('Variation')['client_id'].nunique()\n",
    "total_users_by_group = kpi_df.groupby('Variation')['client_id'].nunique()\n",
    "completion_rate_by_group = completed_users_by_group / total_users_by_group\n",
    "\n",
    "# Present the results\n",
    "completion_rate_overall, completion_rate_by_group"
   ]
  },
  {
   "cell_type": "code",
   "execution_count": 110,
   "id": "98af9424-36ae-4754-ab70-5417fac8d7fc",
   "metadata": {},
   "outputs": [
    {
     "data": {
      "text/plain": [
       "(Variation\n",
       " Control    23464\n",
       " Test       26873\n",
       " Name: client_id, dtype: int64,\n",
       " Variation\n",
       " Control    15347\n",
       " Test       18580\n",
       " Name: client_id, dtype: int64)"
      ]
     },
     "execution_count": 110,
     "metadata": {},
     "output_type": "execute_result"
    }
   ],
   "source": [
    "total_users_by_group, completed_users_by_group"
   ]
  },
  {
   "cell_type": "code",
   "execution_count": 38,
   "id": "3e794534-e992-4c87-8687-50f917a0511f",
   "metadata": {},
   "outputs": [
    {
     "data": {
      "text/plain": [
       "(67.5646231553927,\n",
       " Variation\n",
       " Control    65.578509\n",
       " Test       69.297823\n",
       " Name: client_id, dtype: float64)"
      ]
     },
     "execution_count": 38,
     "metadata": {},
     "output_type": "execute_result"
    }
   ],
   "source": [
    "# Convert overall and group-specific completion rates to percentages\n",
    "completion_rate_overall_percentage = completion_rate_overall * 100\n",
    "completion_rate_by_group_percentage = completion_rate_by_group * 100\n",
    "\n",
    "# Display the results\n",
    "completion_rate_overall_percentage, completion_rate_by_group_percentage"
   ]
  },
  {
   "cell_type": "markdown",
   "id": "421df7b3-c80d-491f-adf8-ee462713cd93",
   "metadata": {},
   "source": [
    "### The percentage of all participants getting to the confirm stage is 68%, for the control group, 66% and 69% for the test group"
   ]
  },
  {
   "cell_type": "code",
   "execution_count": 65,
   "id": "8b90952b-8ca4-46ba-aa6b-a841c191b876",
   "metadata": {},
   "outputs": [
    {
     "data": {
      "image/png": "[encoded data removed]",
      "text/plain": [
       "<Figure size 640x480 with 1 Axes>"
      ]
     },
     "metadata": {},
     "output_type": "display_data"
    }
   ],
   "source": [
    "# Use the index and values from the Series for the plot\n",
    "plt.bar(completion_rate_by_group_percentage.index, \n",
    "        completion_rate_by_group_percentage.values, \n",
    "        color=['crimson', 'firebrick'])\n",
    "\n",
    "# Add labels, title, and formatting\n",
    "plt.ylabel('Completion Rate (%)')\n",
    "plt.title('Completion Rate: Control vs. Test Groups')\n",
    "plt.tight_layout()\n",
    "\n",
    "# Save the plot as an image\n",
    "plt.savefig(\"../figures/completion_rate.jpeg\", format=\"jpeg\", dpi=300)\n",
    "\n",
    "# Show the plot\n",
    "plt.show()\n"
   ]
  },
  {
   "cell_type": "markdown",
   "id": "03860b18-d748-4304-b55b-c560a121c19d",
   "metadata": {},
   "source": [
    "### TIME SPENT ON EACH STEP KPI"
   ]
  },
  {
   "cell_type": "code",
   "execution_count": 17,
   "id": "abf223db-6ffd-4b7a-9662-ca51b9119f4b",
   "metadata": {},
   "outputs": [
    {
     "data": {
      "text/html": [
       "<div>\n",
       "<style scoped>\n",
       "    .dataframe tbody tr th:only-of-type {\n",
       "        vertical-align: middle;\n",
       "    }\n",
       "\n",
       "    .dataframe tbody tr th {\n",
       "        vertical-align: top;\n",
       "    }\n",
       "\n",
       "    .dataframe thead th {\n",
       "        text-align: right;\n",
       "    }\n",
       "</style>\n",
       "<table border=\"1\" class=\"dataframe\">\n",
       "  <thead>\n",
       "    <tr style=\"text-align: right;\">\n",
       "      <th></th>\n",
       "      <th>process_step</th>\n",
       "      <th>average_time_spent</th>\n",
       "    </tr>\n",
       "  </thead>\n",
       "  <tbody>\n",
       "    <tr>\n",
       "      <th>0</th>\n",
       "      <td>start</td>\n",
       "      <td>214</td>\n",
       "    </tr>\n",
       "    <tr>\n",
       "      <th>1</th>\n",
       "      <td>step_1</td>\n",
       "      <td>49</td>\n",
       "    </tr>\n",
       "    <tr>\n",
       "      <th>2</th>\n",
       "      <td>step_2</td>\n",
       "      <td>52</td>\n",
       "    </tr>\n",
       "    <tr>\n",
       "      <th>3</th>\n",
       "      <td>step_3</td>\n",
       "      <td>100</td>\n",
       "    </tr>\n",
       "    <tr>\n",
       "      <th>4</th>\n",
       "      <td>confirm</td>\n",
       "      <td>142</td>\n",
       "    </tr>\n",
       "  </tbody>\n",
       "</table>\n",
       "</div>"
      ],
      "text/plain": [
       "  process_step  average_time_spent\n",
       "0        start                 214\n",
       "1       step_1                  49\n",
       "2       step_2                  52\n",
       "3       step_3                 100\n",
       "4      confirm                 142"
      ]
     },
     "metadata": {},
     "output_type": "display_data"
    }
   ],
   "source": [
    "# Convert 'date_time' to a datetime object\n",
    "kpi_df['date_time'] = pd.to_datetime(kpi_df['date_time'])\n",
    "\n",
    "# Sort data by 'visit_id' and 'date_time'\n",
    "kpi_df = kpi_df.sort_values(by=['visit_id', 'date_time'])\n",
    "\n",
    "# Calculate time differences for consecutive steps\n",
    "kpi_df['time_diff'] = kpi_df.groupby('visit_id')['date_time'].diff().dt.total_seconds()\n",
    "\n",
    "# Ensure only the last 'confirm' step is considered\n",
    "kpi_df = kpi_df.iloc[::-1].drop_duplicates(subset=['visit_id', 'process_step'], keep='first').iloc[::-1]\n",
    "\n",
    "# Aggregate average time spent per step\n",
    "average_time_per_step = kpi_df.groupby('process_step')['time_diff'].mean().round().reindex(['start', 'step_1', 'step_2', 'step_3', 'confirm']).astype(int)\n",
    "\n",
    "# Create a DataFrame for display\n",
    "average_time_per_step_df = average_time_per_step.reset_index(name='average_time_spent')\n",
    "\n",
    "# Display the DataFrame to the user\n",
    "display(average_time_per_step_df)\n"
   ]
  },
  {
   "cell_type": "code",
   "execution_count": 19,
   "id": "aa0952f1-28a7-47e0-8fcf-3f29e479f249",
   "metadata": {},
   "outputs": [
    {
     "data": {
      "text/html": [
       "<div>\n",
       "<style scoped>\n",
       "    .dataframe tbody tr th:only-of-type {\n",
       "        vertical-align: middle;\n",
       "    }\n",
       "\n",
       "    .dataframe tbody tr th {\n",
       "        vertical-align: top;\n",
       "    }\n",
       "\n",
       "    .dataframe thead th {\n",
       "        text-align: right;\n",
       "    }\n",
       "</style>\n",
       "<table border=\"1\" class=\"dataframe\">\n",
       "  <thead>\n",
       "    <tr style=\"text-align: right;\">\n",
       "      <th>Variation</th>\n",
       "      <th>process_step</th>\n",
       "      <th>Control</th>\n",
       "      <th>Test</th>\n",
       "    </tr>\n",
       "  </thead>\n",
       "  <tbody>\n",
       "    <tr>\n",
       "      <th>0</th>\n",
       "      <td>start</td>\n",
       "      <td>281</td>\n",
       "      <td>179</td>\n",
       "    </tr>\n",
       "    <tr>\n",
       "      <th>1</th>\n",
       "      <td>step_1</td>\n",
       "      <td>52</td>\n",
       "      <td>47</td>\n",
       "    </tr>\n",
       "    <tr>\n",
       "      <th>2</th>\n",
       "      <td>step_2</td>\n",
       "      <td>52</td>\n",
       "      <td>52</td>\n",
       "    </tr>\n",
       "    <tr>\n",
       "      <th>3</th>\n",
       "      <td>step_3</td>\n",
       "      <td>98</td>\n",
       "      <td>102</td>\n",
       "    </tr>\n",
       "    <tr>\n",
       "      <th>4</th>\n",
       "      <td>confirm</td>\n",
       "      <td>139</td>\n",
       "      <td>144</td>\n",
       "    </tr>\n",
       "  </tbody>\n",
       "</table>\n",
       "</div>"
      ],
      "text/plain": [
       "Variation process_step  Control  Test\n",
       "0                start      281   179\n",
       "1               step_1       52    47\n",
       "2               step_2       52    52\n",
       "3               step_3       98   102\n",
       "4              confirm      139   144"
      ]
     },
     "execution_count": 19,
     "metadata": {},
     "output_type": "execute_result"
    }
   ],
   "source": [
    "# Step 5: Aggregate average time spent per step for each group (Control and Test)\n",
    "average_time_by_group = kpi_df.groupby(['Variation', 'process_step'])['time_diff'].mean().unstack(level=0)\n",
    "\n",
    "# Reindex to ensure the order of steps is consistent\n",
    "average_time_by_group = average_time_by_group.round().reindex(['start', 'step_1', 'step_2', 'step_3', 'confirm']).astype(int)\n",
    "\n",
    "# Convert to a DataFrame for display\n",
    "average_time_by_group_df = average_time_by_group.reset_index()\n",
    "\n",
    "# Display the DataFrame to the user\n",
    "(average_time_by_group_df)"
   ]
  },
  {
   "cell_type": "markdown",
   "id": "0a716c25-f9d4-42e1-a10c-4cb52687a934",
   "metadata": {},
   "source": [
    "### On average, the control group spent more time on each stage, especially on the 'start' stage."
   ]
  },
  {
   "cell_type": "code",
   "execution_count": 69,
   "id": "f89318ef-b0bd-4022-96e8-8e43469d3661",
   "metadata": {},
   "outputs": [
    {
     "data": {
      "image/png": "[encoded data removed]",
      "text/plain": [
       "<Figure size 640x480 with 1 Axes>"
      ]
     },
     "metadata": {},
     "output_type": "display_data"
    }
   ],
   "source": [
    "# Plot using the index and columns directly\n",
    "plt.plot(average_time_by_group.index, average_time_by_group['Control'], marker='o', label='Control', color = 'crimson')\n",
    "plt.plot(average_time_by_group.index, average_time_by_group['Test'], marker='o', label='Test', color = 'pink')\n",
    "\n",
    "# Add labels, title, and grid\n",
    "plt.xlabel('Process Step')\n",
    "plt.ylabel('Average Time Spent (seconds)')\n",
    "plt.title('Average Time Spent Per Step')\n",
    "plt.legend()\n",
    "plt.grid(visible=True)\n",
    "\n",
    "# Save the plot as an image\n",
    "plt.savefig(\"../figures/avg_time_spent.jpeg\", format=\"jpeg\", dpi=300)\n",
    "\n",
    "# Show the plot\n",
    "plt.show()\n"
   ]
  },
  {
   "cell_type": "markdown",
   "id": "97bd8d3f-12e6-4e6c-8339-2df545022c34",
   "metadata": {},
   "source": [
    "### ERROR RATES KPI"
   ]
  },
  {
   "cell_type": "code",
   "execution_count": 29,
   "id": "4330ca04-8d9e-4ef9-a7f1-4a7cd06fbcea",
   "metadata": {},
   "outputs": [
    {
     "data": {
      "text/html": [
       "<div>\n",
       "<style scoped>\n",
       "    .dataframe tbody tr th:only-of-type {\n",
       "        vertical-align: middle;\n",
       "    }\n",
       "\n",
       "    .dataframe tbody tr th {\n",
       "        vertical-align: top;\n",
       "    }\n",
       "\n",
       "    .dataframe thead th {\n",
       "        text-align: right;\n",
       "    }\n",
       "</style>\n",
       "<table border=\"1\" class=\"dataframe\">\n",
       "  <thead>\n",
       "    <tr style=\"text-align: right;\">\n",
       "      <th></th>\n",
       "      <th>Variation</th>\n",
       "      <th>backward_steps</th>\n",
       "      <th>total_steps</th>\n",
       "      <th>error_rate</th>\n",
       "    </tr>\n",
       "  </thead>\n",
       "  <tbody>\n",
       "    <tr>\n",
       "      <th>0</th>\n",
       "      <td>Control</td>\n",
       "      <td>3613</td>\n",
       "      <td>108691</td>\n",
       "      <td>0.033241</td>\n",
       "    </tr>\n",
       "    <tr>\n",
       "      <th>1</th>\n",
       "      <td>Test</td>\n",
       "      <td>6802</td>\n",
       "      <td>129512</td>\n",
       "      <td>0.052520</td>\n",
       "    </tr>\n",
       "  </tbody>\n",
       "</table>\n",
       "</div>"
      ],
      "text/plain": [
       "  Variation  backward_steps  total_steps  error_rate\n",
       "0   Control            3613       108691    0.033241\n",
       "1      Test            6802       129512    0.052520"
      ]
     },
     "execution_count": 29,
     "metadata": {},
     "output_type": "execute_result"
    }
   ],
   "source": [
    "# Sort data by visit_id and date_time to ensure chronological order\n",
    "kpi_df = kpi_df.sort_values(by=['visit_id', 'date_time'])\n",
    "\n",
    "# Create a numeric column for process_step to facilitate comparisons\n",
    "step_mapping = {'start': 0, 'step_1': 1, 'step_2': 2, 'step_3': 3, 'confirm': 4}\n",
    "kpi_df['process_step_numeric'] = kpi_df['process_step'].map(step_mapping)\n",
    "\n",
    "# Identify \"backward\" steps (errors)\n",
    "kpi_df['prev_process_step'] = kpi_df.groupby('visit_id')['process_step_numeric'].shift(1)\n",
    "kpi_df['backward_step'] = kpi_df['process_step_numeric'] < kpi_df['prev_process_step']\n",
    "\n",
    "# Count backward steps and total steps for each Variation\n",
    "error_data = kpi_df.groupby('Variation').agg(\n",
    "    backward_steps=('backward_step', 'sum'),\n",
    "    total_steps=('process_step_numeric', 'count')\n",
    ").reset_index()\n",
    "\n",
    "# Calculate error rates\n",
    "error_data['error_rate'] = error_data['backward_steps'] / error_data['total_steps']\n",
    "\n",
    "(error_data)\n"
   ]
  },
  {
   "cell_type": "code",
   "execution_count": 31,
   "id": "e200c729-35b1-4476-93ae-7513217861cd",
   "metadata": {},
   "outputs": [
    {
     "data": {
      "text/html": [
       "<div>\n",
       "<style scoped>\n",
       "    .dataframe tbody tr th:only-of-type {\n",
       "        vertical-align: middle;\n",
       "    }\n",
       "\n",
       "    .dataframe tbody tr th {\n",
       "        vertical-align: top;\n",
       "    }\n",
       "\n",
       "    .dataframe thead th {\n",
       "        text-align: right;\n",
       "    }\n",
       "</style>\n",
       "<table border=\"1\" class=\"dataframe\">\n",
       "  <thead>\n",
       "    <tr style=\"text-align: right;\">\n",
       "      <th></th>\n",
       "      <th>Variation</th>\n",
       "      <th>backward_steps</th>\n",
       "      <th>total_steps</th>\n",
       "      <th>error_rate</th>\n",
       "      <th>error_rate_percentage</th>\n",
       "    </tr>\n",
       "  </thead>\n",
       "  <tbody>\n",
       "    <tr>\n",
       "      <th>0</th>\n",
       "      <td>Control</td>\n",
       "      <td>3613</td>\n",
       "      <td>108691</td>\n",
       "      <td>0.033241</td>\n",
       "      <td>3.324102</td>\n",
       "    </tr>\n",
       "    <tr>\n",
       "      <th>1</th>\n",
       "      <td>Test</td>\n",
       "      <td>6802</td>\n",
       "      <td>129512</td>\n",
       "      <td>0.052520</td>\n",
       "      <td>5.252023</td>\n",
       "    </tr>\n",
       "  </tbody>\n",
       "</table>\n",
       "</div>"
      ],
      "text/plain": [
       "  Variation  backward_steps  total_steps  error_rate  error_rate_percentage\n",
       "0   Control            3613       108691    0.033241               3.324102\n",
       "1      Test            6802       129512    0.052520               5.252023"
      ]
     },
     "execution_count": 31,
     "metadata": {},
     "output_type": "execute_result"
    }
   ],
   "source": [
    "# Convert error rates to percentages\n",
    "error_data['error_rate_percentage'] = error_data['error_rate'] * 100\n",
    "\n",
    "# Update the displayed dataframe to include the percentage column\n",
    "(error_data)"
   ]
  },
  {
   "cell_type": "markdown",
   "id": "12b94334-2b9c-4770-b260-cd7490db0a01",
   "metadata": {},
   "source": [
    "### The test group experienced about 2% more errors than the control group "
   ]
  },
  {
   "cell_type": "code",
   "execution_count": 67,
   "id": "e75967ea-2345-4e67-ae26-4e8dcf750fb7",
   "metadata": {},
   "outputs": [
    {
     "data": {
      "image/png": "[encoded data removed]",
      "text/plain": [
       "<Figure size 800x600 with 1 Axes>"
      ]
     },
     "metadata": {},
     "output_type": "display_data"
    }
   ],
   "source": [
    "# Plot the bar chart using error_data\n",
    "plt.bar(error_data['Variation'], error_data['error_rate_percentage'], color=['crimson', 'firebrick'])\n",
    "\n",
    "# Add labels and title\n",
    "plt.xlabel('Variation')\n",
    "plt.ylabel('Error Rate Percentage (%)')\n",
    "plt.title('Error Rate')\n",
    "\n",
    "# Add percentage labels on top of each bar\n",
    "for i, value in enumerate(error_data['error_rate_percentage']):\n",
    "    plt.text(i, value + 0.1, f\"{value:.2f}%\", ha='center', fontsize=10)\n",
    "\n",
    "# Save the plot as an image\n",
    "plt.savefig(\"../figures/error_rate.jpeg\", format=\"jpeg\", dpi=300)\n",
    "\n",
    "# Show the plot\n",
    "plt.show()"
   ]
  },
  {
   "cell_type": "code",
   "execution_count": null,
   "id": "c5fdc9fe-70c5-4074-8628-2c43a6a4fbb9",
   "metadata": {},
   "outputs": [],
   "source": []
  }
 ],
 "metadata": {
  "kernelspec": {
   "display_name": "Python 3 (ipykernel)",
   "language": "python",
   "name": "python3"
  },
  "language_info": {
   "codemirror_mode": {
    "name": "ipython",
    "version": 3
   },
   "file_extension": ".py",
   "mimetype": "text/x-python",
   "name": "python",
   "nbconvert_exporter": "python",
   "pygments_lexer": "ipython3",
   "version": "3.12.4"
  }
 },
 "nbformat": 4,
 "nbformat_minor": 5
}
