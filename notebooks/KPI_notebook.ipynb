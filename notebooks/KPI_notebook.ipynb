{
 "cells": [
  {
   "cell_type": "markdown",
   "id": "1f4b1495-5fc6-4ee9-9ff4-afa6cc0e8fa7",
   "metadata": {},
   "source": [
    "## KPI - SUMMARY\n",
    "### The percentage of all participants getting to the confirm stage is 68%, for the control group, 66% and 69% for the test group\n",
    "### On average, the control group spent more time on each stage, especially on the 'start' stage.\n",
    "### The test group experienced about 2% more errors than the control group "
   ]
  },
  {
   "cell_type": "code",
   "execution_count": 11,
   "id": "112cd5ed-ac68-401e-9316-1ac1aecc75c4",
   "metadata": {},
   "outputs": [],
   "source": [
    "import pandas as pd"
   ]
  },
  {
   "cell_type": "code",
   "execution_count": 38,
   "id": "33a91c40-1217-42d5-803e-e3704fee1041",
   "metadata": {},
   "outputs": [],
   "source": [
    "# Reload the dataset\n",
    "df = pd.read_csv('../data/clean/df_cleaned.csv')\n",
    "kpi_df = pd.read_csv('../data/clean/df_cleaned.csv')"
   ]
  },
  {
   "cell_type": "code",
   "execution_count": 14,
   "id": "79c85323-16f3-427e-a729-7389b0fbf211",
   "metadata": {},
   "outputs": [],
   "source": [
    "# Split data into control and test groups\n",
    "control_group = df[df['Variation'] == 'Control'].copy()\n",
    "test_group = df[df['Variation'] == 'Test'].copy()\n",
    "\n",
    "# Sort data for processing\n",
    "control_group = control_group.sort_values(by=['client_id', 'visit_id', 'process_step', 'date_time'])\n",
    "test_group = test_group.sort_values(by=['client_id', 'visit_id', 'process_step', 'date_time'])"
   ]
  },
  {
   "cell_type": "code",
   "execution_count": 16,
   "id": "51651855-f292-4f89-8612-cd5a55eddb0b",
   "metadata": {},
   "outputs": [],
   "source": [
    "# Calculate Time Differences for Each Step\n",
    "def calculate_time_diff(data):\n",
    "    data['date_time'] = pd.to_datetime(data['date_time'])\n",
    "    data['time_diff'] = data.groupby(['client_id', 'visit_id'])['date_time'].diff().dt.total_seconds()\n",
    "    return data\n",
    "\n",
    "control_group = calculate_time_diff(control_group)\n",
    "test_group = calculate_time_diff(test_group)"
   ]
  },
  {
   "cell_type": "code",
   "execution_count": 19,
   "id": "70d154d8-a0ed-48ef-886f-a8f25528e26e",
   "metadata": {},
   "outputs": [],
   "source": [
    "# Flag errors (backward steps)\n",
    "def flag_errors(data):\n",
    "    data['step_num'] = data['process_step'].str.extract(r'(\\d+)').astype(float)\n",
    "    data['error'] = (data['step_num'].diff() < 0).astype(int)\n",
    "    return data\n",
    "\n",
    "control_group = flag_errors(control_group)\n",
    "test_group = flag_errors(test_group)"
   ]
  },
  {
   "cell_type": "code",
   "execution_count": 21,
   "id": "7b407679-493d-48fd-9fa6-efa472b41d8b",
   "metadata": {},
   "outputs": [],
   "source": [
    "# Calculate Completion Rate\n",
    "def compute_completion_rate(data):\n",
    "    total_users = data['client_id'].nunique()\n",
    "    confirm_users = data[data['process_step'] == 'confirm']['client_id'].nunique()\n",
    "    return (confirm_users / total_users) * 100 if total_users > 0 else 0\n",
    "\n",
    "control_completion_rate = compute_completion_rate(control_group)\n",
    "test_completion_rate = compute_completion_rate(test_group)\n"
   ]
  },
  {
   "cell_type": "code",
   "execution_count": 23,
   "id": "a88a037d-ebaf-45c5-9e3d-7ec66e2e2ff1",
   "metadata": {},
   "outputs": [],
   "source": [
    "# Calculate Average Time Spent on Each Step\n",
    "def compute_avg_time(data):\n",
    "    return data.groupby('process_step')['time_diff'].mean().reset_index(name='Avg Time (seconds)')\n",
    "\n",
    "control_avg_time = compute_avg_time(control_group)\n",
    "test_avg_time = compute_avg_time(test_group)\n"
   ]
  },
  {
   "cell_type": "code",
   "execution_count": 57,
   "id": "5e679edc-8359-4269-8cf8-9a27c08ab3a8",
   "metadata": {},
   "outputs": [],
   "source": [
    "# Calculate Error Rate\n",
    "def compute_error_rate(data):\n",
    "    total_steps = len(data)\n",
    "    backward_steps = data['error'].sum()\n",
    "    return (backward_steps / total_steps) * 100 if total_steps > 0 else 0\n",
    "\n",
    "control_error_rate = compute_error_rate(control_group)\n",
    "test_error_rate = compute_error_rate(test_group)"
   ]
  },
  {
   "cell_type": "code",
   "execution_count": 27,
   "id": "96527089-164f-4d0e-9673-025780560e98",
   "metadata": {},
   "outputs": [],
   "source": [
    "# Calculate Engagement KPI (based on logons_6_mnth)\n",
    "def compute_engagement_kpi(data):\n",
    "    return data['logons_6_mnth'].mean()\n",
    "\n",
    "control_engagement_kpi = compute_engagement_kpi(control_group)\n",
    "test_engagement_kpi = compute_engagement_kpi(test_group)"
   ]
  },
  {
   "cell_type": "code",
   "execution_count": 29,
   "id": "8c1ed449-0d3a-42a4-8c82-3a2cec55afe1",
   "metadata": {},
   "outputs": [
    {
     "data": {
      "text/html": [
       "<div>\n",
       "<style scoped>\n",
       "    .dataframe tbody tr th:only-of-type {\n",
       "        vertical-align: middle;\n",
       "    }\n",
       "\n",
       "    .dataframe tbody tr th {\n",
       "        vertical-align: top;\n",
       "    }\n",
       "\n",
       "    .dataframe thead th {\n",
       "        text-align: right;\n",
       "    }\n",
       "</style>\n",
       "<table border=\"1\" class=\"dataframe\">\n",
       "  <thead>\n",
       "    <tr style=\"text-align: right;\">\n",
       "      <th></th>\n",
       "      <th>KPI</th>\n",
       "      <th>Control Group</th>\n",
       "      <th>Test Group</th>\n",
       "    </tr>\n",
       "  </thead>\n",
       "  <tbody>\n",
       "    <tr>\n",
       "      <th>0</th>\n",
       "      <td>Completion Rate (%)</td>\n",
       "      <td>65.578509</td>\n",
       "      <td>69.297823</td>\n",
       "    </tr>\n",
       "    <tr>\n",
       "      <th>1</th>\n",
       "      <td>Avg Time (seconds)</td>\n",
       "      <td>34.114698</td>\n",
       "      <td>57.018242</td>\n",
       "    </tr>\n",
       "    <tr>\n",
       "      <th>2</th>\n",
       "      <td>Error Rate (%)</td>\n",
       "      <td>0.045325</td>\n",
       "      <td>0.034312</td>\n",
       "    </tr>\n",
       "    <tr>\n",
       "      <th>3</th>\n",
       "      <td>Engagement KPI (Logons)</td>\n",
       "      <td>6.311621</td>\n",
       "      <td>6.245569</td>\n",
       "    </tr>\n",
       "  </tbody>\n",
       "</table>\n",
       "</div>"
      ],
      "text/plain": [
       "                       KPI  Control Group  Test Group\n",
       "0      Completion Rate (%)      65.578509   69.297823\n",
       "1       Avg Time (seconds)      34.114698   57.018242\n",
       "2           Error Rate (%)       0.045325    0.034312\n",
       "3  Engagement KPI (Logons)       6.311621    6.245569"
      ]
     },
     "metadata": {},
     "output_type": "display_data"
    }
   ],
   "source": [
    "# Compile results into a summary table\n",
    "kpi_summary = pd.DataFrame({\n",
    "    'KPI': ['Completion Rate (%)', 'Avg Time (seconds)', 'Error Rate (%)', 'Engagement KPI (Logons)'],\n",
    "    'Control Group': [control_completion_rate, control_avg_time['Avg Time (seconds)'].mean(), control_error_rate, control_engagement_kpi],\n",
    "    'Test Group': [test_completion_rate, test_avg_time['Avg Time (seconds)'].mean(), test_error_rate, test_engagement_kpi]\n",
    "})\n",
    "\n",
    "display(kpi_summary)"
   ]
  },
  {
   "cell_type": "code",
   "execution_count": 40,
   "id": "84b8b317-6188-43aa-86af-aa51995cbae3",
   "metadata": {},
   "outputs": [
    {
     "data": {
      "text/html": [
       "<div>\n",
       "<style scoped>\n",
       "    .dataframe tbody tr th:only-of-type {\n",
       "        vertical-align: middle;\n",
       "    }\n",
       "\n",
       "    .dataframe tbody tr th {\n",
       "        vertical-align: top;\n",
       "    }\n",
       "\n",
       "    .dataframe thead th {\n",
       "        text-align: right;\n",
       "    }\n",
       "</style>\n",
       "<table border=\"1\" class=\"dataframe\">\n",
       "  <thead>\n",
       "    <tr style=\"text-align: right;\">\n",
       "      <th></th>\n",
       "      <th>process_step</th>\n",
       "      <th>average_time_spent</th>\n",
       "    </tr>\n",
       "  </thead>\n",
       "  <tbody>\n",
       "    <tr>\n",
       "      <th>0</th>\n",
       "      <td>start</td>\n",
       "      <td>148</td>\n",
       "    </tr>\n",
       "    <tr>\n",
       "      <th>1</th>\n",
       "      <td>step_1</td>\n",
       "      <td>39</td>\n",
       "    </tr>\n",
       "    <tr>\n",
       "      <th>2</th>\n",
       "      <td>step_2</td>\n",
       "      <td>40</td>\n",
       "    </tr>\n",
       "    <tr>\n",
       "      <th>3</th>\n",
       "      <td>step_3</td>\n",
       "      <td>92</td>\n",
       "    </tr>\n",
       "    <tr>\n",
       "      <th>4</th>\n",
       "      <td>confirm</td>\n",
       "      <td>122</td>\n",
       "    </tr>\n",
       "  </tbody>\n",
       "</table>\n",
       "</div>"
      ],
      "text/plain": [
       "  process_step  average_time_spent\n",
       "0        start                 148\n",
       "1       step_1                  39\n",
       "2       step_2                  40\n",
       "3       step_3                  92\n",
       "4      confirm                 122"
      ]
     },
     "metadata": {},
     "output_type": "display_data"
    }
   ],
   "source": [
    "# Convert 'date_time' to a datetime object\n",
    "kpi_df['date_time'] = pd.to_datetime(kpi_df['date_time'])\n",
    "\n",
    "# Sort data by 'visit_id' and 'date_time'\n",
    "kpi_df = kpi_df.sort_values(by=['visit_id', 'date_time'])\n",
    "\n",
    "# Calculate time differences for consecutive steps\n",
    "kpi_df['time_diff'] = kpi_df.groupby('visit_id')['date_time'].diff().dt.total_seconds()\n",
    "\n",
    "# Ensure only the last 'confirm' step is considered\n",
    "kpi_df = kpi_df.iloc[::-1].drop_duplicates(subset=['visit_id', 'process_step'], keep='first').iloc[::-1]\n",
    "\n",
    "# Aggregate average time spent per step\n",
    "average_time_per_step = kpi_df.groupby('process_step')['time_diff'].mean().round().reindex(['start', 'step_1', 'step_2', 'step_3', 'confirm']).astype(int)\n",
    "\n",
    "# Create a DataFrame for display\n",
    "average_time_per_step_df = average_time_per_step.reset_index(name='average_time_spent')\n",
    "\n",
    "# Display the DataFrame to the user\n",
    "display(average_time_per_step_df)\n"
   ]
  },
  {
   "cell_type": "code",
   "execution_count": 42,
   "id": "634d8484-4986-4daf-9fbd-f973cedaad5a",
   "metadata": {},
   "outputs": [
    {
     "data": {
      "text/html": [
       "<div>\n",
       "<style scoped>\n",
       "    .dataframe tbody tr th:only-of-type {\n",
       "        vertical-align: middle;\n",
       "    }\n",
       "\n",
       "    .dataframe tbody tr th {\n",
       "        vertical-align: top;\n",
       "    }\n",
       "\n",
       "    .dataframe thead th {\n",
       "        text-align: right;\n",
       "    }\n",
       "</style>\n",
       "<table border=\"1\" class=\"dataframe\">\n",
       "  <thead>\n",
       "    <tr style=\"text-align: right;\">\n",
       "      <th>Variation</th>\n",
       "      <th>process_step</th>\n",
       "      <th>Control</th>\n",
       "      <th>Test</th>\n",
       "    </tr>\n",
       "  </thead>\n",
       "  <tbody>\n",
       "    <tr>\n",
       "      <th>0</th>\n",
       "      <td>start</td>\n",
       "      <td>140</td>\n",
       "      <td>154</td>\n",
       "    </tr>\n",
       "    <tr>\n",
       "      <th>1</th>\n",
       "      <td>step_1</td>\n",
       "      <td>41</td>\n",
       "      <td>36</td>\n",
       "    </tr>\n",
       "    <tr>\n",
       "      <th>2</th>\n",
       "      <td>step_2</td>\n",
       "      <td>37</td>\n",
       "      <td>42</td>\n",
       "    </tr>\n",
       "    <tr>\n",
       "      <th>3</th>\n",
       "      <td>step_3</td>\n",
       "      <td>90</td>\n",
       "      <td>93</td>\n",
       "    </tr>\n",
       "    <tr>\n",
       "      <th>4</th>\n",
       "      <td>confirm</td>\n",
       "      <td>127</td>\n",
       "      <td>118</td>\n",
       "    </tr>\n",
       "  </tbody>\n",
       "</table>\n",
       "</div>"
      ],
      "text/plain": [
       "Variation process_step  Control  Test\n",
       "0                start      140   154\n",
       "1               step_1       41    36\n",
       "2               step_2       37    42\n",
       "3               step_3       90    93\n",
       "4              confirm      127   118"
      ]
     },
     "execution_count": 42,
     "metadata": {},
     "output_type": "execute_result"
    }
   ],
   "source": [
    "# Aggregate average time spent per step for each group (Control and Test)\n",
    "average_time_by_group = kpi_df.groupby(['Variation', 'process_step'])['time_diff'].mean().unstack(level=0)\n",
    "\n",
    "# Reindex to ensure the order of steps is consistent\n",
    "average_time_by_group = average_time_by_group.round().reindex(['start', 'step_1', 'step_2', 'step_3', 'confirm']).astype(int)\n",
    "\n",
    "# Convert to a DataFrame for display\n",
    "average_time_by_group_df = average_time_by_group.reset_index()\n",
    "\n",
    "# Display the DataFrame to the user\n",
    "(average_time_by_group_df)"
   ]
  },
  {
   "cell_type": "code",
   "execution_count": null,
   "id": "a6dc27cd-7640-48b5-89dd-7d8ecfb7f599",
   "metadata": {},
   "outputs": [],
   "source": []
  }
 ],
 "metadata": {
  "kernelspec": {
   "display_name": "Python 3 (ipykernel)",
   "language": "python",
   "name": "python3"
  },
  "language_info": {
   "codemirror_mode": {
    "name": "ipython",
    "version": 3
   },
   "file_extension": ".py",
   "mimetype": "text/x-python",
   "name": "python",
   "nbconvert_exporter": "python",
   "pygments_lexer": "ipython3",
   "version": "3.12.4"
  }
 },
 "nbformat": 4,
 "nbformat_minor": 5
}
