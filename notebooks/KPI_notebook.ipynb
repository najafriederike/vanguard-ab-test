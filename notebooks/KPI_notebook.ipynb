{
 "cells": [
  {
   "cell_type": "code",
   "execution_count": 2,
   "id": "112cd5ed-ac68-401e-9316-1ac1aecc75c4",
   "metadata": {},
   "outputs": [],
   "source": [
    "import pandas as pd"
   ]
  },
  {
   "cell_type": "code",
   "execution_count": 4,
   "id": "33a91c40-1217-42d5-803e-e3704fee1041",
   "metadata": {},
   "outputs": [],
   "source": [
    "# Reload the dataset\n",
    "df = pd.read_csv('../data/clean/df_cleaned.csv')"
   ]
  },
  {
   "cell_type": "code",
   "execution_count": 6,
   "id": "79c85323-16f3-427e-a729-7389b0fbf211",
   "metadata": {},
   "outputs": [],
   "source": [
    "# Split data into control and test groups\n",
    "control_group = df[df['Variation'] == 'Control'].copy()\n",
    "test_group = df[df['Variation'] == 'Test'].copy()\n",
    "\n",
    "# Sort data for processing\n",
    "control_group = control_group.sort_values(by=['client_id', 'visit_id', 'process_step', 'date_time'])\n",
    "test_group = test_group.sort_values(by=['client_id', 'visit_id', 'process_step', 'date_time'])"
   ]
  },
  {
   "cell_type": "code",
   "execution_count": 8,
   "id": "51651855-f292-4f89-8612-cd5a55eddb0b",
   "metadata": {},
   "outputs": [],
   "source": [
    "# Calculate Time Differences for Each Step\n",
    "def calculate_time_diff(data):\n",
    "    data['date_time'] = pd.to_datetime(data['date_time'])\n",
    "    data['time_diff'] = data.groupby(['client_id', 'visit_id'])['date_time'].diff().dt.total_seconds()\n",
    "    return data\n",
    "\n",
    "control_group = calculate_time_diff(control_group)\n",
    "test_group = calculate_time_diff(test_group)"
   ]
  },
  {
   "cell_type": "code",
   "execution_count": 10,
   "id": "70d154d8-a0ed-48ef-886f-a8f25528e26e",
   "metadata": {},
   "outputs": [],
   "source": [
    "# Flag errors (backward steps)\n",
    "def flag_errors(data):\n",
    "    data['step_num'] = data['process_step'].str.extract(r'(\\d+)').astype(float)\n",
    "    data['error'] = (data['step_num'].diff() < 0).astype(int)\n",
    "    return data\n",
    "\n",
    "control_group = flag_errors(control_group)\n",
    "test_group = flag_errors(test_group)"
   ]
  },
  {
   "cell_type": "code",
   "execution_count": 14,
   "id": "7b407679-493d-48fd-9fa6-efa472b41d8b",
   "metadata": {},
   "outputs": [],
   "source": [
    "# Calculate Completion Rate\n",
    "def compute_completion_rate(data):\n",
    "    total_users = data['client_id'].nunique()\n",
    "    confirm_users = data[data['process_step'] == 'confirm']['client_id'].nunique()\n",
    "    return (confirm_users / total_users) * 100 if total_users > 0 else 0\n",
    "\n",
    "control_completion_rate = compute_completion_rate(control_group)\n",
    "test_completion_rate = compute_completion_rate(test_group)\n"
   ]
  },
  {
   "cell_type": "code",
   "execution_count": 16,
   "id": "a88a037d-ebaf-45c5-9e3d-7ec66e2e2ff1",
   "metadata": {},
   "outputs": [],
   "source": [
    "# Calculate Average Time Spent on Each Step\n",
    "def compute_avg_time(data):\n",
    "    return data.groupby('process_step')['time_diff'].mean().reset_index(name='Avg Time (seconds)')\n",
    "\n",
    "control_avg_time = compute_avg_time(control_group)\n",
    "test_avg_time = compute_avg_time(test_group)\n"
   ]
  },
  {
   "cell_type": "code",
   "execution_count": 18,
   "id": "5e679edc-8359-4269-8cf8-9a27c08ab3a8",
   "metadata": {},
   "outputs": [],
   "source": [
    "# Calculate Error Rate\n",
    "def compute_error_rate(data):\n",
    "    total_steps = len(data)\n",
    "    backward_steps = data['error'].sum()\n",
    "    return (backward_steps / total_steps) * 100 if total_steps > 0 else 0\n",
    "\n",
    "control_error_rate = compute_error_rate(control_group)\n",
    "test_error_rate = compute_error_rate(test_group)"
   ]
  },
  {
   "cell_type": "code",
   "execution_count": 20,
   "id": "96527089-164f-4d0e-9673-025780560e98",
   "metadata": {},
   "outputs": [],
   "source": [
    "# Calculate Engagement KPI (based on logons_6_mnth)\n",
    "def compute_engagement_kpi(data):\n",
    "    return data['logons_6_mnth'].mean()\n",
    "\n",
    "control_engagement_kpi = compute_engagement_kpi(control_group)\n",
    "test_engagement_kpi = compute_engagement_kpi(test_group)"
   ]
  },
  {
   "cell_type": "code",
   "execution_count": 22,
   "id": "8c1ed449-0d3a-42a4-8c82-3a2cec55afe1",
   "metadata": {},
   "outputs": [
    {
     "data": {
      "text/html": [
       "<div>\n",
       "<style scoped>\n",
       "    .dataframe tbody tr th:only-of-type {\n",
       "        vertical-align: middle;\n",
       "    }\n",
       "\n",
       "    .dataframe tbody tr th {\n",
       "        vertical-align: top;\n",
       "    }\n",
       "\n",
       "    .dataframe thead th {\n",
       "        text-align: right;\n",
       "    }\n",
       "</style>\n",
       "<table border=\"1\" class=\"dataframe\">\n",
       "  <thead>\n",
       "    <tr style=\"text-align: right;\">\n",
       "      <th></th>\n",
       "      <th>KPI</th>\n",
       "      <th>Control Group</th>\n",
       "      <th>Test Group</th>\n",
       "    </tr>\n",
       "  </thead>\n",
       "  <tbody>\n",
       "    <tr>\n",
       "      <th>0</th>\n",
       "      <td>Completion Rate (%)</td>\n",
       "      <td>65.578509</td>\n",
       "      <td>69.297823</td>\n",
       "    </tr>\n",
       "    <tr>\n",
       "      <th>1</th>\n",
       "      <td>Avg Time (seconds)</td>\n",
       "      <td>34.114698</td>\n",
       "      <td>57.018242</td>\n",
       "    </tr>\n",
       "    <tr>\n",
       "      <th>2</th>\n",
       "      <td>Error Rate (%)</td>\n",
       "      <td>0.045325</td>\n",
       "      <td>0.034312</td>\n",
       "    </tr>\n",
       "    <tr>\n",
       "      <th>3</th>\n",
       "      <td>Engagement KPI (Logons)</td>\n",
       "      <td>6.311621</td>\n",
       "      <td>6.245569</td>\n",
       "    </tr>\n",
       "  </tbody>\n",
       "</table>\n",
       "</div>"
      ],
      "text/plain": [
       "                       KPI  Control Group  Test Group\n",
       "0      Completion Rate (%)      65.578509   69.297823\n",
       "1       Avg Time (seconds)      34.114698   57.018242\n",
       "2           Error Rate (%)       0.045325    0.034312\n",
       "3  Engagement KPI (Logons)       6.311621    6.245569"
      ]
     },
     "metadata": {},
     "output_type": "display_data"
    }
   ],
   "source": [
    "# Compile results into a summary table\n",
    "kpi_summary = pd.DataFrame({\n",
    "    'KPI': ['Completion Rate (%)', 'Avg Time (seconds)', 'Error Rate (%)', 'Engagement KPI (Logons)'],\n",
    "    'Control Group': [control_completion_rate, control_avg_time['Avg Time (seconds)'].mean(), control_error_rate, control_engagement_kpi],\n",
    "    'Test Group': [test_completion_rate, test_avg_time['Avg Time (seconds)'].mean(), test_error_rate, test_engagement_kpi]\n",
    "})\n",
    "\n",
    "display(kpi_summary)"
   ]
  },
  {
   "cell_type": "code",
   "execution_count": null,
   "id": "84b8b317-6188-43aa-86af-aa51995cbae3",
   "metadata": {},
   "outputs": [],
   "source": []
  }
 ],
 "metadata": {
  "kernelspec": {
   "display_name": "Python 3 (ipykernel)",
   "language": "python",
   "name": "python3"
  },
  "language_info": {
   "codemirror_mode": {
    "name": "ipython",
    "version": 3
   },
   "file_extension": ".py",
   "mimetype": "text/x-python",
   "name": "python",
   "nbconvert_exporter": "python",
   "pygments_lexer": "ipython3",
   "version": "3.12.4"
  }
 },
 "nbformat": 4,
 "nbformat_minor": 5
}
