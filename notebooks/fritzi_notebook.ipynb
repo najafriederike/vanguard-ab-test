{
 "cells": [
  {
   "cell_type": "markdown",
   "id": "b204e2b5-e889-490c-9d26-8dbb63a9582f",
   "metadata": {},
   "source": [
    "### Day 2 - Customer's Profile [Fritzi] "
   ]
  },
  {
   "cell_type": "markdown",
   "id": "dcf2c0a0-e0eb-45d3-936c-92b2195d25dc",
   "metadata": {},
   "source": [
    "#### SUMMARY\n",
    "##### What’s the primary profile of Vanguard's clients?\n",
    "- The majority of clients (50%) have been with Vanguard for 6 to 16 years.\n",
    "- On average, clients have been with Vanguard for approximately 12 years.\n",
    "- The most common relationship length (mode) is 6 years.\n",
    "\n",
    "- The gender distribution among clients is relatively balanced:\n",
    "- 33.63% of clients are men.\n",
    "- 32.47% of clients are women.\n",
    "- 33.90% of clients have an unknown or undisclosed gender.\n",
    "\n",
    "- The number of accounts ranges from a minimum of 1 to a maximum of 7.\n",
    "- 80% of the clients hold 2 accounts with Vanguard."
   ]
  },
  {
   "cell_type": "code",
   "execution_count": null,
   "id": "10644eae-2fe9-404d-a1ba-dcbedb4ba27f",
   "metadata": {},
   "outputs": [],
   "source": []
  },
  {
   "cell_type": "code",
   "execution_count": 4,
   "id": "271a4261-4bc7-4a2e-a472-9e58ad883972",
   "metadata": {},
   "outputs": [],
   "source": [
    "import pandas as pd\n",
    "import matplotlib.pyplot as plt\n",
    "import seaborn as sns\n",
    "import numpy as np\n",
    "from scipy.stats import chi2_contingency\n",
    "from scipy.stats.contingency import association\n",
    "import statsmodels.api as sm\n",
    "\n",
    "%matplotlib inline"
   ]
  },
  {
   "cell_type": "code",
   "execution_count": 6,
   "id": "74395c44-4e92-4ae0-9788-0b84d84754e7",
   "metadata": {},
   "outputs": [],
   "source": [
    "df = pd.read_csv(\"../data/clean/df_cleaned.csv\")"
   ]
  },
  {
   "cell_type": "code",
   "execution_count": 8,
   "id": "6a2d255c-1938-4bfc-b1f2-908fcca1d2fd",
   "metadata": {},
   "outputs": [
    {
     "data": {
      "text/html": [
       "<div>\n",
       "<style scoped>\n",
       "    .dataframe tbody tr th:only-of-type {\n",
       "        vertical-align: middle;\n",
       "    }\n",
       "\n",
       "    .dataframe tbody tr th {\n",
       "        vertical-align: top;\n",
       "    }\n",
       "\n",
       "    .dataframe thead th {\n",
       "        text-align: right;\n",
       "    }\n",
       "</style>\n",
       "<table border=\"1\" class=\"dataframe\">\n",
       "  <thead>\n",
       "    <tr style=\"text-align: right;\">\n",
       "      <th></th>\n",
       "      <th>client_id</th>\n",
       "      <th>clnt_tenure_yr</th>\n",
       "      <th>clnt_tenure_mnth</th>\n",
       "      <th>clnt_age</th>\n",
       "      <th>gendr</th>\n",
       "      <th>num_accts</th>\n",
       "      <th>bal</th>\n",
       "      <th>calls_6_mnth</th>\n",
       "      <th>logons_6_mnth</th>\n",
       "      <th>Variation</th>\n",
       "      <th>visitor_id</th>\n",
       "      <th>visit_id</th>\n",
       "      <th>process_step</th>\n",
       "      <th>date_time</th>\n",
       "    </tr>\n",
       "  </thead>\n",
       "  <tbody>\n",
       "    <tr>\n",
       "      <th>0</th>\n",
       "      <td>836976</td>\n",
       "      <td>6.0</td>\n",
       "      <td>73.0</td>\n",
       "      <td>60.5</td>\n",
       "      <td>U</td>\n",
       "      <td>2.0</td>\n",
       "      <td>45105.3</td>\n",
       "      <td>6.0</td>\n",
       "      <td>9.0</td>\n",
       "      <td>Test</td>\n",
       "      <td>427070339_1413275162</td>\n",
       "      <td>228976764_46825473280_96584</td>\n",
       "      <td>confirm</td>\n",
       "      <td>2017-04-02 11:51:13</td>\n",
       "    </tr>\n",
       "    <tr>\n",
       "      <th>1</th>\n",
       "      <td>836976</td>\n",
       "      <td>6.0</td>\n",
       "      <td>73.0</td>\n",
       "      <td>60.5</td>\n",
       "      <td>U</td>\n",
       "      <td>2.0</td>\n",
       "      <td>45105.3</td>\n",
       "      <td>6.0</td>\n",
       "      <td>9.0</td>\n",
       "      <td>Test</td>\n",
       "      <td>427070339_1413275162</td>\n",
       "      <td>228976764_46825473280_96584</td>\n",
       "      <td>confirm</td>\n",
       "      <td>2017-04-02 11:47:50</td>\n",
       "    </tr>\n",
       "    <tr>\n",
       "      <th>2</th>\n",
       "      <td>836976</td>\n",
       "      <td>6.0</td>\n",
       "      <td>73.0</td>\n",
       "      <td>60.5</td>\n",
       "      <td>U</td>\n",
       "      <td>2.0</td>\n",
       "      <td>45105.3</td>\n",
       "      <td>6.0</td>\n",
       "      <td>9.0</td>\n",
       "      <td>Test</td>\n",
       "      <td>427070339_1413275162</td>\n",
       "      <td>228976764_46825473280_96584</td>\n",
       "      <td>confirm</td>\n",
       "      <td>2017-04-02 11:46:45</td>\n",
       "    </tr>\n",
       "    <tr>\n",
       "      <th>3</th>\n",
       "      <td>836976</td>\n",
       "      <td>6.0</td>\n",
       "      <td>73.0</td>\n",
       "      <td>60.5</td>\n",
       "      <td>U</td>\n",
       "      <td>2.0</td>\n",
       "      <td>45105.3</td>\n",
       "      <td>6.0</td>\n",
       "      <td>9.0</td>\n",
       "      <td>Test</td>\n",
       "      <td>427070339_1413275162</td>\n",
       "      <td>228976764_46825473280_96584</td>\n",
       "      <td>step_3</td>\n",
       "      <td>2017-04-02 11:23:08</td>\n",
       "    </tr>\n",
       "    <tr>\n",
       "      <th>4</th>\n",
       "      <td>836976</td>\n",
       "      <td>6.0</td>\n",
       "      <td>73.0</td>\n",
       "      <td>60.5</td>\n",
       "      <td>U</td>\n",
       "      <td>2.0</td>\n",
       "      <td>45105.3</td>\n",
       "      <td>6.0</td>\n",
       "      <td>9.0</td>\n",
       "      <td>Test</td>\n",
       "      <td>427070339_1413275162</td>\n",
       "      <td>228976764_46825473280_96584</td>\n",
       "      <td>step_2</td>\n",
       "      <td>2017-04-02 11:22:24</td>\n",
       "    </tr>\n",
       "  </tbody>\n",
       "</table>\n",
       "</div>"
      ],
      "text/plain": [
       "   client_id  clnt_tenure_yr  clnt_tenure_mnth  clnt_age gendr  num_accts  \\\n",
       "0     836976             6.0              73.0      60.5     U        2.0   \n",
       "1     836976             6.0              73.0      60.5     U        2.0   \n",
       "2     836976             6.0              73.0      60.5     U        2.0   \n",
       "3     836976             6.0              73.0      60.5     U        2.0   \n",
       "4     836976             6.0              73.0      60.5     U        2.0   \n",
       "\n",
       "       bal  calls_6_mnth  logons_6_mnth Variation            visitor_id  \\\n",
       "0  45105.3           6.0            9.0      Test  427070339_1413275162   \n",
       "1  45105.3           6.0            9.0      Test  427070339_1413275162   \n",
       "2  45105.3           6.0            9.0      Test  427070339_1413275162   \n",
       "3  45105.3           6.0            9.0      Test  427070339_1413275162   \n",
       "4  45105.3           6.0            9.0      Test  427070339_1413275162   \n",
       "\n",
       "                      visit_id process_step            date_time  \n",
       "0  228976764_46825473280_96584      confirm  2017-04-02 11:51:13  \n",
       "1  228976764_46825473280_96584      confirm  2017-04-02 11:47:50  \n",
       "2  228976764_46825473280_96584      confirm  2017-04-02 11:46:45  \n",
       "3  228976764_46825473280_96584       step_3  2017-04-02 11:23:08  \n",
       "4  228976764_46825473280_96584       step_2  2017-04-02 11:22:24  "
      ]
     },
     "execution_count": 8,
     "metadata": {},
     "output_type": "execute_result"
    }
   ],
   "source": [
    "df.head()"
   ]
  },
  {
   "cell_type": "code",
   "execution_count": null,
   "id": "e153f4fe-4158-465b-954f-0a1f5850761d",
   "metadata": {},
   "outputs": [],
   "source": []
  },
  {
   "cell_type": "markdown",
   "id": "d4c1f0e0-ac31-4efa-a1ac-aea5b1065bd1",
   "metadata": {},
   "source": [
    "#### Task 1:\n",
    "\n",
    "##### Check 'clnt_tenure_yr' (AND/OR 'clnt_tenure_mnth'):\n",
    "- How long have people been clients with Vanguard?\n",
    "\n",
    "##### Summary statistics:\n",
    "- Mean\n",
    "- Median\n",
    "- Mode\n",
    "\n",
    "##### Visualization:\n",
    "- Histogram\n",
    "- Boxplot"
   ]
  },
  {
   "cell_type": "code",
   "execution_count": 31,
   "id": "2d735b47-2f73-49aa-affc-576dbf2ee32b",
   "metadata": {},
   "outputs": [
    {
     "name": "stdout",
     "output_type": "stream",
     "text": [
      "count    321187.000000\n",
      "mean         12.176576\n",
      "std           6.963259\n",
      "min           2.000000\n",
      "25%           6.000000\n",
      "50%          11.000000\n",
      "75%          16.000000\n",
      "max          55.000000\n",
      "Name: clnt_tenure_yr, dtype: float64\n",
      "Mode: 6.0\n"
     ]
    }
   ],
   "source": [
    "client_tenure_summary = df['clnt_tenure_yr'].describe()\n",
    "print(client_tenure_summary)\n",
    "print(f\"Mode: {df['clnt_tenure_yr'].mode()[0]}\")"
   ]
  },
  {
   "cell_type": "markdown",
   "id": "fb82096c-c1ba-48ad-bd8f-d18d1d082efa",
   "metadata": {},
   "source": [
    "##### Sumary statistics\n",
    "- The dataset includes a total of 321,187 clients.\n",
    "- On average, clients have been with Vanguard for approximately 12 years.\n",
    "- The median relationship length is 11 years, which is slightly lower than the mean, suggesting a skew in the data towards longer relationships.\n",
    "- The most common relationship length (mode) is 6 years, indicating that a significant number of clients have been with Vanguard for a relatively short time. This highlights the presence of a smaller group of clients with exceptionally long relationships, which increases the mean.\n",
    "- The range of relationship lengths is wide, spanning 53 years.\n",
    "- The longest-standing client has been with Vanguard for 55 years, while the shortest relationship duration is 2 years."
   ]
  },
  {
   "cell_type": "code",
   "execution_count": 97,
   "id": "47649f85-04f2-462e-8a30-7dd621ced908",
   "metadata": {},
   "outputs": [
    {
     "data": {
      "text/plain": [
       "Text(0.5, 0, 'Years as a Vanguard Client')"
      ]
     },
     "execution_count": 97,
     "metadata": {},
     "output_type": "execute_result"
    },
    {
     "data": {
      "image/png": "[encoded data removed]",
      "text/plain": [
       "<Figure size 640x480 with 1 Axes>"
      ]
     },
     "metadata": {},
     "output_type": "display_data"
    }
   ],
   "source": [
    "# Histogram of 'clnt_tenure_yr'\n",
    "\n",
    "client_tenure_boxplot = sns.boxplot(x = df['clnt_tenure_yr'], color=\"crimson\")\n",
    "plt.title(\"Summary of Client Relationship Lengths with Vanguard\")\n",
    "plt.xlabel(\"Years as a Vanguard Client\")"
   ]
  },
  {
   "cell_type": "markdown",
   "id": "814ec4c6-9af0-4e55-a8ec-83ad5e772ada",
   "metadata": {},
   "source": [
    "##### Boxplot visualizes IQR:\n",
    "- The 1st quartile is 6 years.\n",
    "- The 2nd quartile (or median) is  1 years.\n",
    "- The 3rd quartile is 16 years.\n",
    "- This indicates that the majority of clients (50%) have been with Vanguard for 6 to 16 years.\n",
    "- The upper whisker extends to approx. 30 years.\n",
    "- There are several outliers, representing clients who have been with Vanguard for more than 30 years, with the longest relationship reaching 55 years.00"
   ]
  },
  {
   "cell_type": "code",
   "execution_count": 99,
   "id": "8acfea92-585a-4d37-963c-9d0e64cec3ad",
   "metadata": {},
   "outputs": [
    {
     "data": {
      "image/png": "[encoded data removed]",
      "text/plain": [
       "<Figure size 640x480 with 1 Axes>"
      ]
     },
     "metadata": {},
     "output_type": "display_data"
    }
   ],
   "source": [
    "# Boxplot of 'clnt_tenure_yr'\n",
    "\n",
    "client_tenure_histogram = sns.histplot(x = df['clnt_tenure_yr'], color=\"crimson\")\n",
    "plt.title(\"Distribution of Client Relationships with Vanguard\")\n",
    "plt.xlabel(\"Years as a Vanguard Client\")\n",
    "plt.ylabel('Number of Clients')\n",
    "plt.xscale('linear')\n",
    "plt.xticks(ticks=np.arange(0, 60, 5));"
   ]
  },
  {
   "cell_type": "markdown",
   "id": "3c33a6fd-d179-4686-a392-150d79c5eaf8",
   "metadata": {},
   "source": [
    "##### Histogram visualizes:\n",
    "- The distribution of the length of client relationships with Vanguard.\n",
    "- A distinct spike is observed at 5 and 6 years, representing the mode, indicating that these are the most common relationship lengths.\n",
    "- Additional smaller spikes are noticeable at 15 and 21 years, suggesting periods where relatively more clients have joined and remained with Vanguard."
   ]
  },
  {
   "cell_type": "code",
   "execution_count": null,
   "id": "952cfed1-923a-4257-9be0-75467341064c",
   "metadata": {},
   "outputs": [],
   "source": []
  },
  {
   "cell_type": "markdown",
   "id": "a0f19933-d52a-447e-9b1c-752106065038",
   "metadata": {},
   "source": [
    "#### Task 2: \n",
    "\n",
    "##### Check 'gendr'\n",
    "- Who are Vanguard clients? Is there a gender division?\r\n",
    "##### Calculations & visualizations:\n",
    "- Create frequency table in proportion\n",
    "- Create pie chartt\r\n"
   ]
  },
  {
   "cell_type": "code",
   "execution_count": 188,
   "id": "8909f1d1-bdcd-4a99-9f4d-cc34b7e27b22",
   "metadata": {},
   "outputs": [
    {
     "data": {
      "text/plain": [
       "Unknown    108884\n",
       "Male       108013\n",
       "Female     104290\n",
       "Name: count, dtype: int64"
      ]
     },
     "execution_count": 188,
     "metadata": {},
     "output_type": "execute_result"
    }
   ],
   "source": [
    "# Frequency table\n",
    "\n",
    "gender_distr = df['gendr'].value_counts()\n",
    "index_names = ['Unknown', 'Male', 'Female']\n",
    "gender_distr.index = index_names\n",
    "gender_distr"
   ]
  },
  {
   "cell_type": "code",
   "execution_count": 160,
   "id": "191df4d8-15c4-4e3c-878a-68780601ff30",
   "metadata": {},
   "outputs": [
    {
     "data": {
      "text/plain": [
       "Unknown    0.3390\n",
       "Male       0.3363\n",
       "Female     0.3247\n",
       "Name: proportion, dtype: float64"
      ]
     },
     "execution_count": 160,
     "metadata": {},
     "output_type": "execute_result"
    }
   ],
   "source": [
    "# Frequency table by proportion\n",
    "\n",
    "gender_distr_prop = df['gendr'].value_counts(normalize=True).round(4)\n",
    "index_names = ['Unknown', 'Male', 'Female']\n",
    "gender_distr_prop.index = index_names\n",
    "gender_distr_prop = gender_distr_prop.sort_values(ascending=False)\n",
    "gender_distr_prop"
   ]
  },
  {
   "cell_type": "code",
   "execution_count": 182,
   "id": "866b5778-a8e2-4d9d-a0d2-a9cd1a0511e9",
   "metadata": {},
   "outputs": [
    {
     "data": {
      "image/png": "[encoded data removed]",
      "text/plain": [
       "<Figure size 640x480 with 1 Axes>"
      ]
     },
     "metadata": {},
     "output_type": "display_data"
    }
   ],
   "source": [
    "gender_distr_prop.plot.pie(autopct='%.2f%%', startangle=90, colors=sns.color_palette(\"rocket_r\"), ylabel=\"\")\n",
    "plt.title(\"Distribution of Gender among Clients\");"
   ]
  },
  {
   "cell_type": "markdown",
   "id": "19a243bc-d580-4499-9750-c83647341239",
   "metadata": {},
   "source": [
    "##### Pie chart:\n",
    "- The gender distribution among clients is relatively balanced:\n",
    "- 33.63% of clients are men.\n",
    "- 32.47% of clients are women.\n",
    "- 33.90% of clients have an unknown or undisclosed gender."
   ]
  },
  {
   "cell_type": "code",
   "execution_count": null,
   "id": "082c6178-44be-4397-91e0-9039a062690f",
   "metadata": {},
   "outputs": [],
   "source": []
  },
  {
   "cell_type": "markdown",
   "id": "07a438ed-9c68-420d-953c-1067ad8c7363",
   "metadata": {},
   "source": [
    "#### Task 3: \n",
    "\n",
    "##### Check 'num_accts'\n",
    "- How many accounts do clients have?\n",
    "\n",
    "##### Calculations & visualizations:\n",
    "- Summary statistics\n",
    "- Create frequency table\n",
    "- Create countplot / barplot\n"
   ]
  },
  {
   "cell_type": "code",
   "execution_count": 248,
   "id": "dfcbf9da-20cb-4775-9ee8-623aa73293ca",
   "metadata": {},
   "outputs": [
    {
     "data": {
      "text/plain": [
       "dtype('int32')"
      ]
     },
     "execution_count": 248,
     "metadata": {},
     "output_type": "execute_result"
    }
   ],
   "source": [
    "# Change datatype from float to integer\n",
    "df['num_accts'] = df['num_accts'].astype(int)\n",
    "df['num_accts'].dtype"
   ]
  },
  {
   "cell_type": "code",
   "execution_count": 298,
   "id": "b29c6e47-379b-4066-99e3-0be8ba76a49b",
   "metadata": {},
   "outputs": [
    {
     "data": {
      "text/plain": [
       "count    321187.000000\n",
       "mean          2.262968\n",
       "std           0.541541\n",
       "min           1.000000\n",
       "25%           2.000000\n",
       "50%           2.000000\n",
       "75%           2.000000\n",
       "max           7.000000\n",
       "Name: num_accts, dtype: float64"
      ]
     },
     "execution_count": 298,
     "metadata": {},
     "output_type": "execute_result"
    }
   ],
   "source": [
    "# Calculate summary statistics\n",
    "no_of_accounts = df['num_accts'].describe()\n",
    "no_of_accounts"
   ]
  },
  {
   "cell_type": "markdown",
   "id": "bfc708b8-351c-4467-b02c-c3c0fdda41f1",
   "metadata": {},
   "source": [
    "##### Summary statistics:\n",
    "- On average, clients have 2.26 accounts.\n",
    "- The number of accounts ranges from a minimum of 1 to a maximum of 7.\n",
    "- The 1st quartile (Q1), median (Q2), and 3rd quartile (Q3) are all 2 accounts, indicating that the majority of clients hold exactly 2 accounts."
   ]
  },
  {
   "cell_type": "code",
   "execution_count": 300,
   "id": "cbd86863-50bf-4da6-b399-2a597b174b93",
   "metadata": {},
   "outputs": [
    {
     "data": {
      "text/plain": [
       "num_accts\n",
       "1     0.00\n",
       "2    78.00\n",
       "3    18.26\n",
       "4     3.24\n",
       "5     0.43\n",
       "6     0.05\n",
       "7     0.02\n",
       "Name: proportion, dtype: float64"
      ]
     },
     "execution_count": 300,
     "metadata": {},
     "output_type": "execute_result"
    }
   ],
   "source": [
    "no_of_accounts_prop = (df['num_accts'].value_counts(normalize=True)*100).round(2).sort_index()\n",
    "no_of_accounts_prop"
   ]
  },
  {
   "cell_type": "code",
   "execution_count": 293,
   "id": "6afa1732-220f-49e1-a149-db1389c89e8e",
   "metadata": {},
   "outputs": [
    {
     "data": {
      "image/png": "[encoded data removed]",
      "text/plain": [
       "<Figure size 640x480 with 1 Axes>"
      ]
     },
     "metadata": {},
     "output_type": "display_data"
    }
   ],
   "source": [
    "no_of_accounts_prop_plot = sns.barplot(no_of_accounts_prop, color=\"crimson\")\n",
    "no_of_accounts_prop_plot\n",
    "plt.title(\"Number of Accounts per Client\")\n",
    "plt.ylabel(\"Proportions in %\")\n",
    "plt.xlabel(\"Number of Accounts\");"
   ]
  },
  {
   "cell_type": "markdown",
   "id": "bdc16dbe-e335-4d7b-9e5b-d200774570c1",
   "metadata": {},
   "source": [
    "##### Barplot:\n",
    "- Nearly 80% of clients hold 2 accounts with Vanguard.\n",
    "- Approx. 20% of clients have 3 accounts.\n",
    "- A very small proportion of clients hold either 1 account or between 5 and 7 accounts."
   ]
  },
  {
   "cell_type": "code",
   "execution_count": null,
   "id": "cf453aef-2c04-43f2-a3dc-c7d0c77bdb57",
   "metadata": {},
   "outputs": [],
   "source": []
  }
 ],
 "metadata": {
  "kernelspec": {
   "display_name": "Python 3 (ipykernel)",
   "language": "python",
   "name": "python3"
  },
  "language_info": {
   "codemirror_mode": {
    "name": "ipython",
    "version": 3
   },
   "file_extension": ".py",
   "mimetype": "text/x-python",
   "name": "python",
   "nbconvert_exporter": "python",
   "pygments_lexer": "ipython3",
   "version": "3.12.4"
  }
 },
 "nbformat": 4,
 "nbformat_minor": 5
}
