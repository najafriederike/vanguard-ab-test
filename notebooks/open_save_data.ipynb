{
 "cells": [
  {
   "cell_type": "code",
   "execution_count": 22,
   "id": "96de4617-f8f5-4d9d-9979-f4ccfaf2f363",
   "metadata": {},
   "outputs": [],
   "source": [
    "import pandas as pd\n",
    "import matplotlib.pyplot as plt\n",
    "import seaborn as sns\n",
    "import numpy as np\n",
    "\n",
    "%matplotlib inline"
   ]
  },
  {
   "cell_type": "code",
   "execution_count": 1,
   "id": "7bead9da-ac2f-447c-89a2-82420bb8a99c",
   "metadata": {},
   "outputs": [
    {
     "data": {
      "text/html": [
       "<div>\n",
       "<style scoped>\n",
       "    .dataframe tbody tr th:only-of-type {\n",
       "        vertical-align: middle;\n",
       "    }\n",
       "\n",
       "    .dataframe tbody tr th {\n",
       "        vertical-align: top;\n",
       "    }\n",
       "\n",
       "    .dataframe thead th {\n",
       "        text-align: right;\n",
       "    }\n",
       "</style>\n",
       "<table border=\"1\" class=\"dataframe\">\n",
       "  <thead>\n",
       "    <tr style=\"text-align: right;\">\n",
       "      <th></th>\n",
       "      <th>client_id</th>\n",
       "      <th>clnt_tenure_yr</th>\n",
       "      <th>clnt_tenure_mnth</th>\n",
       "      <th>clnt_age</th>\n",
       "      <th>gendr</th>\n",
       "      <th>num_accts</th>\n",
       "      <th>bal</th>\n",
       "      <th>calls_6_mnth</th>\n",
       "      <th>logons_6_mnth</th>\n",
       "    </tr>\n",
       "  </thead>\n",
       "  <tbody>\n",
       "    <tr>\n",
       "      <th>0</th>\n",
       "      <td>836976</td>\n",
       "      <td>6.0</td>\n",
       "      <td>73.0</td>\n",
       "      <td>60.5</td>\n",
       "      <td>U</td>\n",
       "      <td>2.0</td>\n",
       "      <td>45105.30</td>\n",
       "      <td>6.0</td>\n",
       "      <td>9.0</td>\n",
       "    </tr>\n",
       "    <tr>\n",
       "      <th>1</th>\n",
       "      <td>2304905</td>\n",
       "      <td>7.0</td>\n",
       "      <td>94.0</td>\n",
       "      <td>58.0</td>\n",
       "      <td>U</td>\n",
       "      <td>2.0</td>\n",
       "      <td>110860.30</td>\n",
       "      <td>6.0</td>\n",
       "      <td>9.0</td>\n",
       "    </tr>\n",
       "    <tr>\n",
       "      <th>2</th>\n",
       "      <td>1439522</td>\n",
       "      <td>5.0</td>\n",
       "      <td>64.0</td>\n",
       "      <td>32.0</td>\n",
       "      <td>U</td>\n",
       "      <td>2.0</td>\n",
       "      <td>52467.79</td>\n",
       "      <td>6.0</td>\n",
       "      <td>9.0</td>\n",
       "    </tr>\n",
       "    <tr>\n",
       "      <th>3</th>\n",
       "      <td>1562045</td>\n",
       "      <td>16.0</td>\n",
       "      <td>198.0</td>\n",
       "      <td>49.0</td>\n",
       "      <td>M</td>\n",
       "      <td>2.0</td>\n",
       "      <td>67454.65</td>\n",
       "      <td>3.0</td>\n",
       "      <td>6.0</td>\n",
       "    </tr>\n",
       "    <tr>\n",
       "      <th>4</th>\n",
       "      <td>5126305</td>\n",
       "      <td>12.0</td>\n",
       "      <td>145.0</td>\n",
       "      <td>33.0</td>\n",
       "      <td>F</td>\n",
       "      <td>2.0</td>\n",
       "      <td>103671.75</td>\n",
       "      <td>0.0</td>\n",
       "      <td>3.0</td>\n",
       "    </tr>\n",
       "  </tbody>\n",
       "</table>\n",
       "</div>"
      ],
      "text/plain": [
       "   client_id  clnt_tenure_yr  clnt_tenure_mnth  clnt_age gendr  num_accts  \\\n",
       "0     836976             6.0              73.0      60.5     U        2.0   \n",
       "1    2304905             7.0              94.0      58.0     U        2.0   \n",
       "2    1439522             5.0              64.0      32.0     U        2.0   \n",
       "3    1562045            16.0             198.0      49.0     M        2.0   \n",
       "4    5126305            12.0             145.0      33.0     F        2.0   \n",
       "\n",
       "         bal  calls_6_mnth  logons_6_mnth  \n",
       "0   45105.30           6.0            9.0  \n",
       "1  110860.30           6.0            9.0  \n",
       "2   52467.79           6.0            9.0  \n",
       "3   67454.65           3.0            6.0  \n",
       "4  103671.75           0.0            3.0  "
      ]
     },
     "execution_count": 1,
     "metadata": {},
     "output_type": "execute_result"
    }
   ],
   "source": [
    "df_final_demo = pd.read_csv('df_final_demo.txt', sep=',')  \n",
    "df_final_demo.head()"
   ]
  },
  {
   "cell_type": "code",
   "execution_count": 3,
   "id": "6c828578-78f5-49b1-9e92-2f2b82ce10fd",
   "metadata": {},
   "outputs": [
    {
     "data": {
      "text/html": [
       "<div>\n",
       "<style scoped>\n",
       "    .dataframe tbody tr th:only-of-type {\n",
       "        vertical-align: middle;\n",
       "    }\n",
       "\n",
       "    .dataframe tbody tr th {\n",
       "        vertical-align: top;\n",
       "    }\n",
       "\n",
       "    .dataframe thead th {\n",
       "        text-align: right;\n",
       "    }\n",
       "</style>\n",
       "<table border=\"1\" class=\"dataframe\">\n",
       "  <thead>\n",
       "    <tr style=\"text-align: right;\">\n",
       "      <th></th>\n",
       "      <th>client_id</th>\n",
       "      <th>Variation</th>\n",
       "    </tr>\n",
       "  </thead>\n",
       "  <tbody>\n",
       "    <tr>\n",
       "      <th>0</th>\n",
       "      <td>9988021</td>\n",
       "      <td>Test</td>\n",
       "    </tr>\n",
       "    <tr>\n",
       "      <th>1</th>\n",
       "      <td>8320017</td>\n",
       "      <td>Test</td>\n",
       "    </tr>\n",
       "    <tr>\n",
       "      <th>2</th>\n",
       "      <td>4033851</td>\n",
       "      <td>Control</td>\n",
       "    </tr>\n",
       "    <tr>\n",
       "      <th>3</th>\n",
       "      <td>1982004</td>\n",
       "      <td>Test</td>\n",
       "    </tr>\n",
       "    <tr>\n",
       "      <th>4</th>\n",
       "      <td>9294070</td>\n",
       "      <td>Control</td>\n",
       "    </tr>\n",
       "  </tbody>\n",
       "</table>\n",
       "</div>"
      ],
      "text/plain": [
       "   client_id Variation\n",
       "0    9988021      Test\n",
       "1    8320017      Test\n",
       "2    4033851   Control\n",
       "3    1982004      Test\n",
       "4    9294070   Control"
      ]
     },
     "execution_count": 3,
     "metadata": {},
     "output_type": "execute_result"
    }
   ],
   "source": [
    "df_final_exp_clients = pd.read_csv('df_final_experiment_clients.txt', sep=',')  \n",
    "df_final_exp_clients.head()"
   ]
  },
  {
   "cell_type": "code",
   "execution_count": 5,
   "id": "462e478b-41ef-4d6f-9130-0711a469d127",
   "metadata": {},
   "outputs": [
    {
     "data": {
      "text/html": [
       "<div>\n",
       "<style scoped>\n",
       "    .dataframe tbody tr th:only-of-type {\n",
       "        vertical-align: middle;\n",
       "    }\n",
       "\n",
       "    .dataframe tbody tr th {\n",
       "        vertical-align: top;\n",
       "    }\n",
       "\n",
       "    .dataframe thead th {\n",
       "        text-align: right;\n",
       "    }\n",
       "</style>\n",
       "<table border=\"1\" class=\"dataframe\">\n",
       "  <thead>\n",
       "    <tr style=\"text-align: right;\">\n",
       "      <th></th>\n",
       "      <th>client_id</th>\n",
       "      <th>visitor_id</th>\n",
       "      <th>visit_id</th>\n",
       "      <th>process_step</th>\n",
       "      <th>date_time</th>\n",
       "    </tr>\n",
       "  </thead>\n",
       "  <tbody>\n",
       "    <tr>\n",
       "      <th>0</th>\n",
       "      <td>9988021</td>\n",
       "      <td>580560515_7732621733</td>\n",
       "      <td>781255054_21935453173_531117</td>\n",
       "      <td>step_3</td>\n",
       "      <td>2017-04-17 15:27:07</td>\n",
       "    </tr>\n",
       "    <tr>\n",
       "      <th>1</th>\n",
       "      <td>9988021</td>\n",
       "      <td>580560515_7732621733</td>\n",
       "      <td>781255054_21935453173_531117</td>\n",
       "      <td>step_2</td>\n",
       "      <td>2017-04-17 15:26:51</td>\n",
       "    </tr>\n",
       "    <tr>\n",
       "      <th>2</th>\n",
       "      <td>9988021</td>\n",
       "      <td>580560515_7732621733</td>\n",
       "      <td>781255054_21935453173_531117</td>\n",
       "      <td>step_3</td>\n",
       "      <td>2017-04-17 15:19:22</td>\n",
       "    </tr>\n",
       "    <tr>\n",
       "      <th>3</th>\n",
       "      <td>9988021</td>\n",
       "      <td>580560515_7732621733</td>\n",
       "      <td>781255054_21935453173_531117</td>\n",
       "      <td>step_2</td>\n",
       "      <td>2017-04-17 15:19:13</td>\n",
       "    </tr>\n",
       "    <tr>\n",
       "      <th>4</th>\n",
       "      <td>9988021</td>\n",
       "      <td>580560515_7732621733</td>\n",
       "      <td>781255054_21935453173_531117</td>\n",
       "      <td>step_3</td>\n",
       "      <td>2017-04-17 15:18:04</td>\n",
       "    </tr>\n",
       "  </tbody>\n",
       "</table>\n",
       "</div>"
      ],
      "text/plain": [
       "   client_id            visitor_id                      visit_id process_step  \\\n",
       "0    9988021  580560515_7732621733  781255054_21935453173_531117       step_3   \n",
       "1    9988021  580560515_7732621733  781255054_21935453173_531117       step_2   \n",
       "2    9988021  580560515_7732621733  781255054_21935453173_531117       step_3   \n",
       "3    9988021  580560515_7732621733  781255054_21935453173_531117       step_2   \n",
       "4    9988021  580560515_7732621733  781255054_21935453173_531117       step_3   \n",
       "\n",
       "             date_time  \n",
       "0  2017-04-17 15:27:07  \n",
       "1  2017-04-17 15:26:51  \n",
       "2  2017-04-17 15:19:22  \n",
       "3  2017-04-17 15:19:13  \n",
       "4  2017-04-17 15:18:04  "
      ]
     },
     "execution_count": 5,
     "metadata": {},
     "output_type": "execute_result"
    }
   ],
   "source": [
    "df_final_web_data_pt1 = pd.read_csv('df_final_web_data_pt_1.txt', sep=',')  \n",
    "df_final_web_data_pt1.head()"
   ]
  },
  {
   "cell_type": "code",
   "execution_count": 7,
   "id": "99b4545a-acb2-42e6-8fb7-6a3b98ac38b9",
   "metadata": {},
   "outputs": [
    {
     "data": {
      "text/html": [
       "<div>\n",
       "<style scoped>\n",
       "    .dataframe tbody tr th:only-of-type {\n",
       "        vertical-align: middle;\n",
       "    }\n",
       "\n",
       "    .dataframe tbody tr th {\n",
       "        vertical-align: top;\n",
       "    }\n",
       "\n",
       "    .dataframe thead th {\n",
       "        text-align: right;\n",
       "    }\n",
       "</style>\n",
       "<table border=\"1\" class=\"dataframe\">\n",
       "  <thead>\n",
       "    <tr style=\"text-align: right;\">\n",
       "      <th></th>\n",
       "      <th>client_id</th>\n",
       "      <th>visitor_id</th>\n",
       "      <th>visit_id</th>\n",
       "      <th>process_step</th>\n",
       "      <th>date_time</th>\n",
       "    </tr>\n",
       "  </thead>\n",
       "  <tbody>\n",
       "    <tr>\n",
       "      <th>0</th>\n",
       "      <td>763412</td>\n",
       "      <td>601952081_10457207388</td>\n",
       "      <td>397475557_40440946728_419634</td>\n",
       "      <td>confirm</td>\n",
       "      <td>2017-06-06 08:56:00</td>\n",
       "    </tr>\n",
       "    <tr>\n",
       "      <th>1</th>\n",
       "      <td>6019349</td>\n",
       "      <td>442094451_91531546617</td>\n",
       "      <td>154620534_35331068705_522317</td>\n",
       "      <td>confirm</td>\n",
       "      <td>2017-06-01 11:59:27</td>\n",
       "    </tr>\n",
       "    <tr>\n",
       "      <th>2</th>\n",
       "      <td>6019349</td>\n",
       "      <td>442094451_91531546617</td>\n",
       "      <td>154620534_35331068705_522317</td>\n",
       "      <td>step_3</td>\n",
       "      <td>2017-06-01 11:58:48</td>\n",
       "    </tr>\n",
       "    <tr>\n",
       "      <th>3</th>\n",
       "      <td>6019349</td>\n",
       "      <td>442094451_91531546617</td>\n",
       "      <td>154620534_35331068705_522317</td>\n",
       "      <td>step_2</td>\n",
       "      <td>2017-06-01 11:58:08</td>\n",
       "    </tr>\n",
       "    <tr>\n",
       "      <th>4</th>\n",
       "      <td>6019349</td>\n",
       "      <td>442094451_91531546617</td>\n",
       "      <td>154620534_35331068705_522317</td>\n",
       "      <td>step_1</td>\n",
       "      <td>2017-06-01 11:57:58</td>\n",
       "    </tr>\n",
       "  </tbody>\n",
       "</table>\n",
       "</div>"
      ],
      "text/plain": [
       "   client_id             visitor_id                      visit_id  \\\n",
       "0     763412  601952081_10457207388  397475557_40440946728_419634   \n",
       "1    6019349  442094451_91531546617  154620534_35331068705_522317   \n",
       "2    6019349  442094451_91531546617  154620534_35331068705_522317   \n",
       "3    6019349  442094451_91531546617  154620534_35331068705_522317   \n",
       "4    6019349  442094451_91531546617  154620534_35331068705_522317   \n",
       "\n",
       "  process_step            date_time  \n",
       "0      confirm  2017-06-06 08:56:00  \n",
       "1      confirm  2017-06-01 11:59:27  \n",
       "2       step_3  2017-06-01 11:58:48  \n",
       "3       step_2  2017-06-01 11:58:08  \n",
       "4       step_1  2017-06-01 11:57:58  "
      ]
     },
     "execution_count": 7,
     "metadata": {},
     "output_type": "execute_result"
    }
   ],
   "source": [
    "df_final_web_data_pt2 = pd.read_csv('df_final_web_data_pt_2.txt', sep=',')  \n",
    "df_final_web_data_pt2.head()"
   ]
  },
  {
   "cell_type": "code",
   "execution_count": 11,
   "id": "7066c417-9e50-4687-b4db-2237e456244c",
   "metadata": {},
   "outputs": [],
   "source": [
    "df_final_exp_clients.to_csv('df_final_exp_clients.csv', index=False)\n",
    "df_final_demo.to_csv('df_final_demo.csv', index=False)\n",
    "df_final_web_data_pt2.to_csv('df_final_web_data_pt2.csv', index=False)\n",
    "df_final_web_data_pt1.to_csv('df_final_web_data_pt1.csv', index=False)"
   ]
  },
  {
   "cell_type": "code",
   "execution_count": 15,
   "id": "85c74c55-4082-4f95-a752-fac4692de136",
   "metadata": {},
   "outputs": [
    {
     "data": {
      "text/html": [
       "<div>\n",
       "<style scoped>\n",
       "    .dataframe tbody tr th:only-of-type {\n",
       "        vertical-align: middle;\n",
       "    }\n",
       "\n",
       "    .dataframe tbody tr th {\n",
       "        vertical-align: top;\n",
       "    }\n",
       "\n",
       "    .dataframe thead th {\n",
       "        text-align: right;\n",
       "    }\n",
       "</style>\n",
       "<table border=\"1\" class=\"dataframe\">\n",
       "  <thead>\n",
       "    <tr style=\"text-align: right;\">\n",
       "      <th></th>\n",
       "      <th>client_id</th>\n",
       "      <th>visitor_id</th>\n",
       "      <th>visit_id</th>\n",
       "      <th>process_step</th>\n",
       "      <th>date_time</th>\n",
       "    </tr>\n",
       "  </thead>\n",
       "  <tbody>\n",
       "    <tr>\n",
       "      <th>0</th>\n",
       "      <td>9988021</td>\n",
       "      <td>580560515_7732621733</td>\n",
       "      <td>781255054_21935453173_531117</td>\n",
       "      <td>step_3</td>\n",
       "      <td>2017-04-17 15:27:07</td>\n",
       "    </tr>\n",
       "    <tr>\n",
       "      <th>1</th>\n",
       "      <td>9988021</td>\n",
       "      <td>580560515_7732621733</td>\n",
       "      <td>781255054_21935453173_531117</td>\n",
       "      <td>step_2</td>\n",
       "      <td>2017-04-17 15:26:51</td>\n",
       "    </tr>\n",
       "    <tr>\n",
       "      <th>2</th>\n",
       "      <td>9988021</td>\n",
       "      <td>580560515_7732621733</td>\n",
       "      <td>781255054_21935453173_531117</td>\n",
       "      <td>step_3</td>\n",
       "      <td>2017-04-17 15:19:22</td>\n",
       "    </tr>\n",
       "    <tr>\n",
       "      <th>3</th>\n",
       "      <td>9988021</td>\n",
       "      <td>580560515_7732621733</td>\n",
       "      <td>781255054_21935453173_531117</td>\n",
       "      <td>step_2</td>\n",
       "      <td>2017-04-17 15:19:13</td>\n",
       "    </tr>\n",
       "    <tr>\n",
       "      <th>4</th>\n",
       "      <td>9988021</td>\n",
       "      <td>580560515_7732621733</td>\n",
       "      <td>781255054_21935453173_531117</td>\n",
       "      <td>step_3</td>\n",
       "      <td>2017-04-17 15:18:04</td>\n",
       "    </tr>\n",
       "  </tbody>\n",
       "</table>\n",
       "</div>"
      ],
      "text/plain": [
       "   client_id            visitor_id                      visit_id process_step  \\\n",
       "0    9988021  580560515_7732621733  781255054_21935453173_531117       step_3   \n",
       "1    9988021  580560515_7732621733  781255054_21935453173_531117       step_2   \n",
       "2    9988021  580560515_7732621733  781255054_21935453173_531117       step_3   \n",
       "3    9988021  580560515_7732621733  781255054_21935453173_531117       step_2   \n",
       "4    9988021  580560515_7732621733  781255054_21935453173_531117       step_3   \n",
       "\n",
       "             date_time  \n",
       "0  2017-04-17 15:27:07  \n",
       "1  2017-04-17 15:26:51  \n",
       "2  2017-04-17 15:19:22  \n",
       "3  2017-04-17 15:19:13  \n",
       "4  2017-04-17 15:18:04  "
      ]
     },
     "execution_count": 15,
     "metadata": {},
     "output_type": "execute_result"
    }
   ],
   "source": [
    "# Load the two parts of the final web data\n",
    "file_path_pt1 = 'df_final_web_data_pt1.csv'\n",
    "file_path_pt2 = 'df_final_web_data_pt2.csv'\n",
    "\n",
    "df_pt1 = pd.read_csv(file_path_pt1)\n",
    "df_pt2 = pd.read_csv(file_path_pt2)\n",
    "\n",
    "# Merge the two parts into one dataframe\n",
    "df_final_web_data_merged = pd.concat([df_pt1, df_pt2], ignore_index=True)\n",
    "\n",
    "# Display the structure of the final web data merged dataframe\n",
    "df_final_web_data_merged.head()"
   ]
  },
  {
   "cell_type": "code",
   "execution_count": 17,
   "id": "3750de3a-d834-4f09-8911-af176cf1afc3",
   "metadata": {},
   "outputs": [],
   "source": [
    "# Save the final web data merged dataframe\n",
    "df_final_web_data_merged.to_csv('df_final_web_data_merged.csv', index=False)"
   ]
  },
  {
   "cell_type": "code",
   "execution_count": 29,
   "id": "be3ce335-9ff3-4f8f-b09e-f0fe2033ecd4",
   "metadata": {},
   "outputs": [
    {
     "name": "stdout",
     "output_type": "stream",
     "text": [
      "<class 'pandas.core.frame.DataFrame'>\n",
      "RangeIndex: 70609 entries, 0 to 70608\n",
      "Data columns (total 9 columns):\n",
      " #   Column            Non-Null Count  Dtype  \n",
      "---  ------            --------------  -----  \n",
      " 0   client_id         70609 non-null  int64  \n",
      " 1   clnt_tenure_yr    70595 non-null  float64\n",
      " 2   clnt_tenure_mnth  70595 non-null  float64\n",
      " 3   clnt_age          70594 non-null  float64\n",
      " 4   gendr             70595 non-null  object \n",
      " 5   num_accts         70595 non-null  float64\n",
      " 6   bal               70595 non-null  float64\n",
      " 7   calls_6_mnth      70595 non-null  float64\n",
      " 8   logons_6_mnth     70595 non-null  float64\n",
      "dtypes: float64(7), int64(1), object(1)\n",
      "memory usage: 4.8+ MB\n",
      "<class 'pandas.core.frame.DataFrame'>\n",
      "RangeIndex: 70609 entries, 0 to 70608\n",
      "Data columns (total 2 columns):\n",
      " #   Column     Non-Null Count  Dtype \n",
      "---  ------     --------------  ----- \n",
      " 0   client_id  70609 non-null  int64 \n",
      " 1   Variation  50500 non-null  object\n",
      "dtypes: int64(1), object(1)\n",
      "memory usage: 1.1+ MB\n",
      "<class 'pandas.core.frame.DataFrame'>\n",
      "RangeIndex: 755405 entries, 0 to 755404\n",
      "Data columns (total 5 columns):\n",
      " #   Column        Non-Null Count   Dtype \n",
      "---  ------        --------------   ----- \n",
      " 0   client_id     755405 non-null  int64 \n",
      " 1   visitor_id    755405 non-null  object\n",
      " 2   visit_id      755405 non-null  object\n",
      " 3   process_step  755405 non-null  object\n",
      " 4   date_time     755405 non-null  object\n",
      "dtypes: int64(1), object(4)\n",
      "memory usage: 28.8+ MB\n"
     ]
    },
    {
     "data": {
      "text/plain": [
       "(None,\n",
       " client_id            0\n",
       " clnt_tenure_yr      14\n",
       " clnt_tenure_mnth    14\n",
       " clnt_age            15\n",
       " gendr               14\n",
       " num_accts           14\n",
       " bal                 14\n",
       " calls_6_mnth        14\n",
       " logons_6_mnth       14\n",
       " dtype: int64,\n",
       " None,\n",
       " client_id        0\n",
       " Variation    20109\n",
       " dtype: int64,\n",
       " None,\n",
       " client_id       0\n",
       " visitor_id      0\n",
       " visit_id        0\n",
       " process_step    0\n",
       " date_time       0\n",
       " dtype: int64)"
      ]
     },
     "execution_count": 29,
     "metadata": {},
     "output_type": "execute_result"
    }
   ],
   "source": [
    "#Start of cleaning\n",
    "# Reload the datasets\n",
    "df_demo = pd.read_csv('df_final_demo.csv')\n",
    "df_exp_clients = pd.read_csv('df_final_exp_clients.csv')\n",
    "df_web_data = pd.read_csv('df_final_web_data_merged.csv')\n",
    "\n",
    "# Initial inspection of the datasets for missing values and data types\n",
    "df_demo_info = df_demo.info()\n",
    "df_demo_missing = df_demo.isnull().sum()\n",
    "\n",
    "df_exp_clients_info = df_exp_clients.info()\n",
    "df_exp_clients_missing = df_exp_clients.isnull().sum()\n",
    "\n",
    "df_web_data_info = df_web_data.info()\n",
    "df_web_data_missing = df_web_data.isnull().sum()\n",
    "\n",
    "(df_demo_info, df_demo_missing, df_exp_clients_info, df_exp_clients_missing, df_web_data_info, df_web_data_missing)\n"
   ]
  },
  {
   "cell_type": "code",
   "execution_count": 44,
   "id": "5f1fc83c-fe46-4da0-bba9-71e4bf0fc6fa",
   "metadata": {},
   "outputs": [
    {
     "name": "stdout",
     "output_type": "stream",
     "text": [
      "<class 'pandas.core.frame.DataFrame'>\n",
      "RangeIndex: 70609 entries, 0 to 70608\n",
      "Data columns (total 9 columns):\n",
      " #   Column            Non-Null Count  Dtype  \n",
      "---  ------            --------------  -----  \n",
      " 0   client_id         70609 non-null  int64  \n",
      " 1   clnt_tenure_yr    70595 non-null  float64\n",
      " 2   clnt_tenure_mnth  70595 non-null  float64\n",
      " 3   clnt_age          70594 non-null  float64\n",
      " 4   gendr             70595 non-null  object \n",
      " 5   num_accts         70595 non-null  float64\n",
      " 6   bal               70595 non-null  float64\n",
      " 7   calls_6_mnth      70595 non-null  float64\n",
      " 8   logons_6_mnth     70595 non-null  float64\n",
      "dtypes: float64(7), int64(1), object(1)\n",
      "memory usage: 4.8+ MB\n"
     ]
    },
    {
     "data": {
      "text/plain": [
       "client_id            0\n",
       "clnt_tenure_yr      14\n",
       "clnt_tenure_mnth    14\n",
       "clnt_age            15\n",
       "gendr               14\n",
       "num_accts           14\n",
       "bal                 14\n",
       "calls_6_mnth        14\n",
       "logons_6_mnth       14\n",
       "dtype: int64"
      ]
     },
     "execution_count": 44,
     "metadata": {},
     "output_type": "execute_result"
    }
   ],
   "source": [
    "# Initial inspection of the datasets for missing values and data types\n",
    "df_demo_info = df_demo.info()\n",
    "df_demo_missing = df_demo.isnull().sum()\n",
    "df_demo_missing"
   ]
  },
  {
   "cell_type": "code",
   "execution_count": 46,
   "id": "dd213a3c-7e18-41f4-87ff-214ff7282880",
   "metadata": {},
   "outputs": [
    {
     "name": "stdout",
     "output_type": "stream",
     "text": [
      "<class 'pandas.core.frame.DataFrame'>\n",
      "RangeIndex: 70609 entries, 0 to 70608\n",
      "Data columns (total 2 columns):\n",
      " #   Column     Non-Null Count  Dtype \n",
      "---  ------     --------------  ----- \n",
      " 0   client_id  70609 non-null  int64 \n",
      " 1   Variation  50500 non-null  object\n",
      "dtypes: int64(1), object(1)\n",
      "memory usage: 1.1+ MB\n"
     ]
    },
    {
     "data": {
      "text/plain": [
       "client_id        0\n",
       "Variation    20109\n",
       "dtype: int64"
      ]
     },
     "execution_count": 46,
     "metadata": {},
     "output_type": "execute_result"
    }
   ],
   "source": [
    "df_exp_clients_info = df_exp_clients.info()\n",
    "df_exp_clients_missing = df_exp_clients.isnull().sum()\n",
    "df_exp_clients_missing"
   ]
  },
  {
   "cell_type": "code",
   "execution_count": 52,
   "id": "d01f08ef-0480-4a07-a0c2-8e8ebf1b0748",
   "metadata": {},
   "outputs": [
    {
     "name": "stdout",
     "output_type": "stream",
     "text": [
      "<class 'pandas.core.frame.DataFrame'>\n",
      "RangeIndex: 755405 entries, 0 to 755404\n",
      "Data columns (total 5 columns):\n",
      " #   Column        Non-Null Count   Dtype \n",
      "---  ------        --------------   ----- \n",
      " 0   client_id     755405 non-null  int64 \n",
      " 1   visitor_id    755405 non-null  object\n",
      " 2   visit_id      755405 non-null  object\n",
      " 3   process_step  755405 non-null  object\n",
      " 4   date_time     755405 non-null  object\n",
      "dtypes: int64(1), object(4)\n",
      "memory usage: 28.8+ MB\n"
     ]
    },
    {
     "data": {
      "text/plain": [
       "client_id       0\n",
       "visitor_id      0\n",
       "visit_id        0\n",
       "process_step    0\n",
       "date_time       0\n",
       "dtype: int64"
      ]
     },
     "execution_count": 52,
     "metadata": {},
     "output_type": "execute_result"
    }
   ],
   "source": [
    "df_web_data_info = df_web_data.info()\n",
    "df_web_data_missing = df_web_data.isnull().sum()\n",
    "df_web_data_missing"
   ]
  },
  {
   "cell_type": "code",
   "execution_count": 48,
   "id": "f06c85d9-7eba-4558-9fc3-8e16bbd3190e",
   "metadata": {},
   "outputs": [],
   "source": [
    "#drop rows with missing values in tenure, age, gender\n",
    "df_demo_cleaned = df_demo.dropna(subset=['clnt_tenure_yr', 'clnt_tenure_mnth', 'clnt_age', 'gendr'])"
   ]
  },
  {
   "cell_type": "code",
   "execution_count": 50,
   "id": "bf492f58-9e17-4bb2-918b-e8fd46c54937",
   "metadata": {},
   "outputs": [
    {
     "name": "stdout",
     "output_type": "stream",
     "text": [
      "<class 'pandas.core.frame.DataFrame'>\n",
      "Index: 70594 entries, 0 to 70608\n",
      "Data columns (total 9 columns):\n",
      " #   Column            Non-Null Count  Dtype  \n",
      "---  ------            --------------  -----  \n",
      " 0   client_id         70594 non-null  int64  \n",
      " 1   clnt_tenure_yr    70594 non-null  float64\n",
      " 2   clnt_tenure_mnth  70594 non-null  float64\n",
      " 3   clnt_age          70594 non-null  float64\n",
      " 4   gendr             70594 non-null  object \n",
      " 5   num_accts         70594 non-null  float64\n",
      " 6   bal               70594 non-null  float64\n",
      " 7   calls_6_mnth      70594 non-null  float64\n",
      " 8   logons_6_mnth     70594 non-null  float64\n",
      "dtypes: float64(7), int64(1), object(1)\n",
      "memory usage: 5.4+ MB\n"
     ]
    }
   ],
   "source": [
    "df_demo_cleaned.info()"
   ]
  },
  {
   "cell_type": "code",
   "execution_count": 39,
   "id": "41a6e164-d875-47b7-976a-6f55005ce15f",
   "metadata": {},
   "outputs": [
    {
     "data": {
      "text/plain": [
       "client_id           0\n",
       "clnt_tenure_yr      0\n",
       "clnt_tenure_mnth    0\n",
       "clnt_age            0\n",
       "gendr               0\n",
       "num_accts           0\n",
       "bal                 0\n",
       "calls_6_mnth        0\n",
       "logons_6_mnth       0\n",
       "dtype: int64"
      ]
     },
     "execution_count": 39,
     "metadata": {},
     "output_type": "execute_result"
    }
   ],
   "source": [
    "df_demo_cleaned_missing = df_demo_cleaned.isnull().sum()\n",
    "\n",
    "df_demo_cleaned_missing"
   ]
  },
  {
   "cell_type": "code",
   "execution_count": 54,
   "id": "8f6bcad6-fb36-4914-b01d-16d1db6b620d",
   "metadata": {},
   "outputs": [],
   "source": [
    "#drop row with null variation\n",
    "df_exp_clients_cleaned = df_exp_clients.dropna(subset=['Variation'])"
   ]
  },
  {
   "cell_type": "code",
   "execution_count": 56,
   "id": "7945cb72-0a29-488b-b80a-6a84ed1f7595",
   "metadata": {},
   "outputs": [
    {
     "data": {
      "text/plain": [
       "client_id    0\n",
       "Variation    0\n",
       "dtype: int64"
      ]
     },
     "execution_count": 56,
     "metadata": {},
     "output_type": "execute_result"
    }
   ],
   "source": [
    "df_exp_clients_cleaned.isnull().sum()\n"
   ]
  },
  {
   "cell_type": "code",
   "execution_count": 58,
   "id": "48c0f54e-f130-4ddb-a4eb-2b62db8af5e5",
   "metadata": {},
   "outputs": [],
   "source": [
    "#convert date_time column from string to date format\n",
    "df_web_data['date_time'] = pd.to_datetime(df_web_data['date_time'])"
   ]
  },
  {
   "cell_type": "code",
   "execution_count": 60,
   "id": "8fd15030-274e-45d9-b468-20b32f66ae9a",
   "metadata": {},
   "outputs": [
    {
     "name": "stdout",
     "output_type": "stream",
     "text": [
      "<class 'pandas.core.frame.DataFrame'>\n",
      "RangeIndex: 755405 entries, 0 to 755404\n",
      "Data columns (total 5 columns):\n",
      " #   Column        Non-Null Count   Dtype         \n",
      "---  ------        --------------   -----         \n",
      " 0   client_id     755405 non-null  int64         \n",
      " 1   visitor_id    755405 non-null  object        \n",
      " 2   visit_id      755405 non-null  object        \n",
      " 3   process_step  755405 non-null  object        \n",
      " 4   date_time     755405 non-null  datetime64[ns]\n",
      "dtypes: datetime64[ns](1), int64(1), object(3)\n",
      "memory usage: 28.8+ MB\n"
     ]
    }
   ],
   "source": [
    "df_web_data.info()"
   ]
  },
  {
   "cell_type": "code",
   "execution_count": 64,
   "id": "98102ba3-9dc9-4c20-94a9-778989e7b7c0",
   "metadata": {},
   "outputs": [],
   "source": [
    "# Mergeing Cleaned Data based on client_id into one csv\n",
    "# Merge demographic and experiment data\n",
    "df_merged = pd.merge(df_demo_cleaned, df_exp_clients_cleaned, on='client_id', how='inner')\n",
    "\n",
    "# Merge the result with web data\n",
    "df_final = pd.merge(df_merged, df_web_data, on='client_id', how='inner')"
   ]
  },
  {
   "cell_type": "code",
   "execution_count": 66,
   "id": "3751081e-d3b0-497b-921d-0a4de6201685",
   "metadata": {},
   "outputs": [
    {
     "name": "stdout",
     "output_type": "stream",
     "text": [
      "<class 'pandas.core.frame.DataFrame'>\n",
      "RangeIndex: 321195 entries, 0 to 321194\n",
      "Data columns (total 14 columns):\n",
      " #   Column            Non-Null Count   Dtype         \n",
      "---  ------            --------------   -----         \n",
      " 0   client_id         321195 non-null  int64         \n",
      " 1   clnt_tenure_yr    321195 non-null  float64       \n",
      " 2   clnt_tenure_mnth  321195 non-null  float64       \n",
      " 3   clnt_age          321195 non-null  float64       \n",
      " 4   gendr             321195 non-null  object        \n",
      " 5   num_accts         321195 non-null  float64       \n",
      " 6   bal               321195 non-null  float64       \n",
      " 7   calls_6_mnth      321195 non-null  float64       \n",
      " 8   logons_6_mnth     321195 non-null  float64       \n",
      " 9   Variation         321195 non-null  object        \n",
      " 10  visitor_id        321195 non-null  object        \n",
      " 11  visit_id          321195 non-null  object        \n",
      " 12  process_step      321195 non-null  object        \n",
      " 13  date_time         321195 non-null  datetime64[ns]\n",
      "dtypes: datetime64[ns](1), float64(7), int64(1), object(5)\n",
      "memory usage: 34.3+ MB\n"
     ]
    },
    {
     "data": {
      "text/plain": [
       "(None,\n",
       " client_id           0\n",
       " clnt_tenure_yr      0\n",
       " clnt_tenure_mnth    0\n",
       " clnt_age            0\n",
       " gendr               0\n",
       " num_accts           0\n",
       " bal                 0\n",
       " calls_6_mnth        0\n",
       " logons_6_mnth       0\n",
       " Variation           0\n",
       " visitor_id          0\n",
       " visit_id            0\n",
       " process_step        0\n",
       " date_time           0\n",
       " dtype: int64)"
      ]
     },
     "execution_count": 66,
     "metadata": {},
     "output_type": "execute_result"
    }
   ],
   "source": [
    "# Verify the merged dataset\n",
    "df_final_info = df_final.info()\n",
    "df_final_missing = df_final.isnull().sum()\n",
    "\n",
    "(df_final_info, df_final_missing)"
   ]
  },
  {
   "cell_type": "code",
   "execution_count": 68,
   "id": "1afc7ef7-7fac-43ba-9b6f-4ac2ebcc0e45",
   "metadata": {},
   "outputs": [],
   "source": [
    "# Save the merged cleaned dataset\n",
    "df_final.to_csv('df_final.csv', index=False)"
   ]
  },
  {
   "cell_type": "code",
   "execution_count": null,
   "id": "efdd9f24-64da-4fe4-90ff-1b54da4a0aca",
   "metadata": {},
   "outputs": [],
   "source": []
  }
 ],
 "metadata": {
  "kernelspec": {
   "display_name": "Python 3 (ipykernel)",
   "language": "python",
   "name": "python3"
  },
  "language_info": {
   "codemirror_mode": {
    "name": "ipython",
    "version": 3
   },
   "file_extension": ".py",
   "mimetype": "text/x-python",
   "name": "python",
   "nbconvert_exporter": "python",
   "pygments_lexer": "ipython3",
   "version": "3.12.4"
  }
 },
 "nbformat": 4,
 "nbformat_minor": 5
}
